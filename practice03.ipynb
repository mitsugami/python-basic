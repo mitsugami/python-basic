{
  "nbformat": 4,
  "nbformat_minor": 0,
  "metadata": {
    "colab": {
      "provenance": [],
      "authorship_tag": "ABX9TyO4rSJDIttMlKjZUF2MV12I",
      "include_colab_link": true
    },
    "kernelspec": {
      "name": "python3",
      "display_name": "Python 3"
    },
    "language_info": {
      "name": "python"
    }
  },
  "cells": [
    {
      "cell_type": "markdown",
      "metadata": {
        "id": "view-in-github",
        "colab_type": "text"
      },
      "source": [
        "<a href=\"https://colab.research.google.com/github/mitsugami/python-basic/blob/main/practice03.ipynb\" target=\"_parent\"><img src=\"https://colab.research.google.com/assets/colab-badge.svg\" alt=\"Open In Colab\"/></a>"
      ]
    },
    {
      "cell_type": "markdown",
      "metadata": {
        "id": "TwOdWcH_P-53"
      },
      "source": [
        "# Python基礎（第3回）講義補足用Notebook"
      ]
    },
    {
      "cell_type": "markdown",
      "source": [
        "講義動画で紹介したコードを中心に紹介しています．コードをそのまま実行したり，自由に書き換えて実行して，理解を深めましょう．"
      ],
      "metadata": {
        "id": "ePCe-L6PQE9Z"
      }
    },
    {
      "cell_type": "markdown",
      "source": [
        "---\n",
        "## 一歩前に進むための準備"
      ],
      "metadata": {
        "id": "Mk0mMB2HQSHT"
      }
    },
    {
      "cell_type": "markdown",
      "source": [
        "### inpu関数を使ったキーボードからの入力の受け取り\n",
        "\n",
        "プログラム実行時にユーザからキーボード入力を受け付けて，その入力に応じた処理を行うようなプログラムを使いたい場合は，input関数を使います．\n",
        "\n",
        "以下のセルを実行してみてください．「名前を入力してください」の下に矩形が現れますので，そこにキーボードで文字を入力し，Enterを押してください．\n",
        "\n",
        "なお，この矩形はJupyter Notebook環境（Google Colaboratoryも）特有のもので，PCのターミナルで実行する際にはこの矩形は表示されず，カーソルのみが表示されます．"
      ],
      "metadata": {
        "id": "L-Al-1bDQZoO"
      }
    },
    {
      "cell_type": "code",
      "source": [
        "name = input('名前を入力してください\\n')\n",
        "print(name + 'さん，こんにちは')"
      ],
      "metadata": {
        "id": "Vd-32VvKQtbi"
      },
      "execution_count": null,
      "outputs": []
    },
    {
      "cell_type": "markdown",
      "source": [
        "### コメント文\n",
        "\n",
        "Pythonのプログラムのコードの中では，「#」の後ろ，その行末までは，実行時に無視されます．\n",
        "後から自分でコードを見直す際や，他の人にコードを見せる場合など，コメント文として説明を残しておくと，理解の助けになりますので，活用しましょう．"
      ],
      "metadata": {
        "id": "5y6L6zDyRYWT"
      }
    },
    {
      "cell_type": "code",
      "source": [
        "# 高さを受け取る\n",
        "height = float( input('高さを入力してください\\n') )\n",
        "\n",
        "# 幅を受け取る\n",
        "width = float( input('幅を入力してください') )\n",
        "\n",
        "# 面積を計算して出力する\n",
        "print( f'面積は{height * width}です')"
      ],
      "metadata": {
        "id": "-jQU7gVtRaAV"
      },
      "execution_count": null,
      "outputs": []
    },
    {
      "cell_type": "markdown",
      "source": [
        "---\n",
        "## 条件分岐と論理演算子"
      ],
      "metadata": {
        "id": "w5mntnYfSa8B"
      }
    },
    {
      "cell_type": "markdown",
      "source": [
        "### 単純なif文\n",
        "下のセルの1行目の 22 のところを値をさまざまな値に書き換えて実行してみましょう．18以上の値を記入した場合は何も表示されません．"
      ],
      "metadata": {
        "id": "eKY8JFAjSh4C"
      }
    },
    {
      "cell_type": "code",
      "source": [
        "age = 22\n",
        "if age < 18:\n",
        "  print('まだ選挙権はありません')"
      ],
      "metadata": {
        "id": "aaNOZOTsShet"
      },
      "execution_count": null,
      "outputs": []
    },
    {
      "cell_type": "markdown",
      "source": [
        "if と書いた次の行の冒頭にはインデントがあります．これと同じ幅のインデントの行が続く間は，if文の条件が満たされた場合の処理とみなされます．if文の外側の処理としたい場合は，インデント無しで書きます．以下の例で確認しましょう．"
      ],
      "metadata": {
        "id": "CZqnyz73V6UX"
      }
    },
    {
      "cell_type": "code",
      "source": [
        "age = 22\n",
        "if age < 18:\n",
        "  print('まだ選挙権はありません')\n",
        "  print('18歳になったら投票に行きましょう')\n",
        "\n",
        "print('処理を終わります')"
      ],
      "metadata": {
        "id": "mUJML3j9VyFo"
      },
      "execution_count": null,
      "outputs": []
    },
    {
      "cell_type": "markdown",
      "source": [
        "コードの中の数字を書き換えるのではなく，実行時にキーボード入力させたい場合は，上で学んだinput関数を使いましょう．"
      ],
      "metadata": {
        "id": "TjV1vUS2Xdgx"
      }
    },
    {
      "cell_type": "code",
      "source": [
        "age = int( input('年齢を入力してください\\n') )\n",
        "\n",
        "if age < 18:\n",
        "  print('まだ選挙権はありません')\n",
        "  print('18歳になったら投票に行きましょう')\n",
        "\n",
        "print('処理を終わります')"
      ],
      "metadata": {
        "id": "ePldGRo7XWSR"
      },
      "execution_count": null,
      "outputs": []
    },
    {
      "cell_type": "markdown",
      "source": [
        "なお，講義動画や教科書の中ではインデントはスペース4文字で書かれているのに対して，Google Colaboratoryではデフォルトではスペース2文字になっています．この「インデントのスペース数」コードの中で統一されていればどちらでも構いません．\n",
        "\n",
        "ちなみに，Google Colaboratoryでもスペース4文字に変更することが可能です．上部のメニューの「ツール」→「設定」→「エディタ」で表示される画面内の「インデント幅（スペース）」を 4 としてください．"
      ],
      "metadata": {
        "id": "_AgIVmtwWWlj"
      }
    },
    {
      "cell_type": "markdown",
      "source": [
        "### if ～ else文による条件分岐"
      ],
      "metadata": {
        "id": "VhXZvOtIXK4z"
      }
    },
    {
      "cell_type": "code",
      "source": [
        "age = int( input('年齢を入力してください\\n') )\n",
        "\n",
        "if age < 18:\n",
        "  print('まだ選挙権はありません')\n",
        "else:\n",
        "  print('投票に行きましょう')"
      ],
      "metadata": {
        "id": "3w0gAICAXpwg"
      },
      "execution_count": null,
      "outputs": []
    },
    {
      "cell_type": "markdown",
      "source": [
        "### if ～ elif ～ else文による条件分岐"
      ],
      "metadata": {
        "id": "aCMg5TjRXv0j"
      }
    },
    {
      "cell_type": "code",
      "source": [
        "age = int( input('年齢を入力してください\\n') )\n",
        "\n",
        "if age < 4:\n",
        "  print('入場料は無料です')\n",
        "elif age < 13:\n",
        "  print('子供料金で入場できます')\n",
        "else:\n",
        "  print('大人料金が必要です')"
      ],
      "metadata": {
        "id": "24cz91__X0y1"
      },
      "execution_count": null,
      "outputs": []
    },
    {
      "cell_type": "markdown",
      "source": [
        "### 論理演算"
      ],
      "metadata": {
        "id": "bRdfGQkwYK5q"
      }
    },
    {
      "cell_type": "markdown",
      "source": [
        "「12歳以下か66歳以上」などのように複数の条件式による条件を書きたい場合は， and / or / not を使いましょう．"
      ],
      "metadata": {
        "id": "kDmhVhVfYcJK"
      }
    },
    {
      "cell_type": "code",
      "source": [
        "age = int( input('年齢を入力してください\\n') )\n",
        "\n",
        "if age < 13 or age > 65:\n",
        "  print('入場料は無料です')\n",
        "else:\n",
        "  print('料金が必要です')"
      ],
      "metadata": {
        "id": "_QsUtOLZYMgv"
      },
      "execution_count": null,
      "outputs": []
    },
    {
      "cell_type": "markdown",
      "source": [
        "上と同じ挙動をするプログラムを以下のように書くこともできます．上の反対の条件をifの条件式にしています．"
      ],
      "metadata": {
        "id": "etckrwDdZI_q"
      }
    },
    {
      "cell_type": "code",
      "source": [
        "age = int( input('年齢を入力してください\\n') )\n",
        "\n",
        "if age >= 13 and age <= 65:\n",
        "  print('料金が必要です')\n",
        "else:\n",
        "  print('入場料は無料です')\n"
      ],
      "metadata": {
        "id": "tz7t2DJ2Y5Sy"
      },
      "execution_count": null,
      "outputs": []
    },
    {
      "cell_type": "markdown",
      "source": [
        "なお，上の and を使った条件式は，下のように一つにまとめて書くことが認められています．"
      ],
      "metadata": {
        "id": "FOxWji9rZhuE"
      }
    },
    {
      "cell_type": "code",
      "source": [
        "age = int( input('年齢を入力してください\\n') )\n",
        "\n",
        "if 13 <= age <= 65:\n",
        "  print('料金が必要です')\n",
        "else:\n",
        "  print('入場料は無料です')\n"
      ],
      "metadata": {
        "id": "4ZJZ3FzNZYXX"
      },
      "execution_count": null,
      "outputs": []
    },
    {
      "cell_type": "markdown",
      "source": [
        "---\n",
        "## 処理の繰り返し"
      ],
      "metadata": {
        "id": "8esDZvl_ZyUc"
      }
    },
    {
      "cell_type": "markdown",
      "source": [
        "### while文\n",
        "\n",
        "while文は，処理の繰り返しを書く方法のひとつです．whileの後の条件式として繰り返しが継続する条件を書き，次の行以降，同じインデントが続く間（同じブロック）に，継続される処理内容を記述します．"
      ],
      "metadata": {
        "id": "_mw5gQnfaJyJ"
      }
    },
    {
      "cell_type": "code",
      "source": [
        "i = 0\n",
        "while i < 5:\n",
        "  print('こんにちは')\n",
        "  i += 1\n"
      ],
      "metadata": {
        "id": "gFjFIOYeaNF5"
      },
      "execution_count": null,
      "outputs": []
    },
    {
      "cell_type": "code",
      "source": [
        "i = 20\n",
        "while i > 0:\n",
        "  print(i)\n",
        "  i -= 5\n"
      ],
      "metadata": {
        "id": "-OSqzwVVaVug"
      },
      "execution_count": null,
      "outputs": []
    },
    {
      "cell_type": "markdown",
      "source": [
        "### for文\n",
        "\n",
        "for文も繰り返し処理を書く方法のひとつです．ある変数に順に値を入れていきながら処理を繰り返すのに向いています．変数に順に与える値は，反復可能オブジェクトとして与えます．リストなどがその代表例です．"
      ],
      "metadata": {
        "id": "hXDSCTpeaa-n"
      }
    },
    {
      "cell_type": "code",
      "source": [
        "for i in [10, 20, 30, 40, 50]:\n",
        "  print(i)"
      ],
      "metadata": {
        "id": "ucG1MB94acR3"
      },
      "execution_count": null,
      "outputs": []
    },
    {
      "cell_type": "markdown",
      "source": [
        "ただ，変数に与える値が多数になる場合，それをリストとして直書きするのは大変です．それらの値が規則的（等間隔の整数）の場合は，rangeオブジェクトとして書くのが便利です．"
      ],
      "metadata": {
        "id": "2h6Xx-wHb93a"
      }
    },
    {
      "cell_type": "code",
      "source": [
        "for i in range(10):\n",
        "  print(i)"
      ],
      "metadata": {
        "id": "Kqnfj28SaiuX"
      },
      "execution_count": null,
      "outputs": []
    },
    {
      "cell_type": "code",
      "source": [
        "for i in range(1,10):\n",
        "  print(i)"
      ],
      "metadata": {
        "id": "HHHmGJ90amq4"
      },
      "execution_count": null,
      "outputs": []
    },
    {
      "cell_type": "code",
      "source": [
        "for i in range(1, 10, 2):\n",
        "  print(i)"
      ],
      "metadata": {
        "id": "f9bi2BN4apcu"
      },
      "execution_count": null,
      "outputs": []
    },
    {
      "cell_type": "markdown",
      "source": [
        "上のそれぞれのrangeオブジェクトがどんな値を生成しているかは，下のように確認することもできます．（rangeオブジェクトをリストに変化しています）"
      ],
      "metadata": {
        "id": "DBxKTqtMe6GV"
      }
    },
    {
      "cell_type": "code",
      "source": [
        "list(range(10))"
      ],
      "metadata": {
        "id": "a-hgnIy2a0_d"
      },
      "execution_count": null,
      "outputs": []
    },
    {
      "cell_type": "code",
      "source": [
        "list(range(1, 10))"
      ],
      "metadata": {
        "id": "6TNL0Area9Y8"
      },
      "execution_count": null,
      "outputs": []
    },
    {
      "cell_type": "code",
      "source": [
        "list(range(1, 10, 2))"
      ],
      "metadata": {
        "id": "eVAdpgZAa-hN"
      },
      "execution_count": null,
      "outputs": []
    },
    {
      "cell_type": "markdown",
      "source": [
        "### break\n",
        "\n",
        "ループ（while文やfor文）を途中で打ち切りたい場合は，breakを呼びます．"
      ],
      "metadata": {
        "id": "XljtFMgAbDtu"
      }
    },
    {
      "cell_type": "code",
      "source": [
        "total = 0\n",
        "for i in range(10):\n",
        "  total += i\n",
        "  if total > 20:\n",
        "    break\n",
        "\n",
        "print(i, total)"
      ],
      "metadata": {
        "id": "MqkWih3QbJMv"
      },
      "execution_count": null,
      "outputs": []
    },
    {
      "cell_type": "markdown",
      "source": [
        "### continue\n",
        "\n",
        "一方，ループそのものを中断するのではなく，ループのある1サイクルの中で，そのサイクルは途中で打ち切り，次のサイクルに飛びたい場合は continue を呼びます．"
      ],
      "metadata": {
        "id": "uaLgMTkwb57i"
      }
    },
    {
      "cell_type": "code",
      "source": [
        "total = 0\n",
        "for i in range(100):\n",
        "  if i % 3 == 0:\n",
        "    continue\n",
        "  print(i)\n",
        "  total += i\n",
        "\n",
        "print('合計は', total)"
      ],
      "metadata": {
        "id": "f0ueBXgRbV6M"
      },
      "execution_count": null,
      "outputs": []
    },
    {
      "cell_type": "markdown",
      "source": [
        "### ループ処理のネスト（入れ子）\n",
        "\n",
        "ループの各サイクルの中でループを実行すること（入れ子，ネスト）も可能です．以下がその例です．インデントがどうなっているか，よく確認してください．"
      ],
      "metadata": {
        "id": "kmYxdgAwbxVr"
      }
    },
    {
      "cell_type": "code",
      "source": [
        "for a in range(1, 4):\n",
        "  print('a=', a)\n",
        "  for b in range(1, 4):\n",
        "    print('    b=', b)"
      ],
      "metadata": {
        "id": "7TvhO1-qbmv_"
      },
      "execution_count": null,
      "outputs": []
    },
    {
      "cell_type": "markdown",
      "source": [
        "---\n",
        "## 自由演習\n",
        "\n",
        "以下に自由にコードを作成・実行して，知識を定着させ，理解を深めましょう．"
      ],
      "metadata": {
        "id": "qS8FE2BSg__a"
      }
    },
    {
      "cell_type": "code",
      "source": [
        "\n",
        "\n"
      ],
      "metadata": {
        "id": "BlBQCUFPhPft"
      },
      "execution_count": null,
      "outputs": []
    },
    {
      "cell_type": "markdown",
      "source": [
        "---\n",
        "第3回の演習は以上です．お疲れ様でした．"
      ],
      "metadata": {
        "id": "xTCD4KvqhTqC"
      }
    }
  ]
}