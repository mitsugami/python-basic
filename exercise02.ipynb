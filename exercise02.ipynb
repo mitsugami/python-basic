{
  "nbformat": 4,
  "nbformat_minor": 0,
  "metadata": {
    "colab": {
      "provenance": [],
      "toc_visible": true,
      "authorship_tag": "ABX9TyNZ64ycbdFvRHv6jbORcBJv",
      "include_colab_link": true
    },
    "kernelspec": {
      "name": "python3",
      "display_name": "Python 3"
    },
    "language_info": {
      "name": "python"
    }
  },
  "cells": [
    {
      "cell_type": "markdown",
      "metadata": {
        "id": "view-in-github",
        "colab_type": "text"
      },
      "source": [
        "<a href=\"https://colab.research.google.com/github/mitsugami/python-basic/blob/main/exercise02.ipynb\" target=\"_parent\"><img src=\"https://colab.research.google.com/assets/colab-badge.svg\" alt=\"Open In Colab\"/></a>"
      ]
    },
    {
      "cell_type": "markdown",
      "metadata": {
        "id": "fBm6tcbx6FfB"
      },
      "source": [
        "# Python基礎 Live演習（第2回）\n",
        "\n",
        "これは， **Python基礎【第3回】～制御構文（条件分岐・繰り返し）～** の演習課題です．"
      ]
    },
    {
      "cell_type": "markdown",
      "metadata": {
        "id": "fhXRPJeAnFPy"
      },
      "source": [
        "---\n",
        "##inpu関数を使ったキーボードからの入力の受け取り\n",
        "\n"
      ]
    },
    {
      "cell_type": "markdown",
      "metadata": {
        "id": "ZyS-weVynxyn"
      },
      "source": [
        "###(1)\n",
        "下の例のように2つの整数をキーボード入力で受け取り，その和を表示するプログラムを作成してください．\n",
        "\n",
        "実行例：\n",
        "```\n",
        "1つ目の整数を入力してください > 3\n",
        "2つ目の整数を入力してください > 5\n",
        "2つの和は 8 です\n",
        "```"
      ]
    },
    {
      "cell_type": "code",
      "metadata": {
        "id": "lLoeLABBnxkj"
      },
      "source": [
        "# ここにコードを記述してください．\n",
        "\n",
        "\n"
      ],
      "execution_count": null,
      "outputs": []
    },
    {
      "cell_type": "markdown",
      "metadata": {
        "id": "khDbTqXToaI2"
      },
      "source": [
        "###(2)\n",
        "下の例ように，上底・下底・高さを順にキーボード入力すると，そのような台形の面積を返すプログラムを作成してください．\n",
        "\n",
        "実行例：\n",
        "```\n",
        "上底：3\n",
        "下底：5\n",
        "高さ：4\n",
        "この台形の面積は 16.0 です\n",
        "```"
      ]
    },
    {
      "cell_type": "code",
      "metadata": {
        "id": "IHjuYiepopJS"
      },
      "source": [
        "# ここにコードを記述してください．\n",
        "\n",
        "\n"
      ],
      "execution_count": null,
      "outputs": []
    },
    {
      "cell_type": "markdown",
      "metadata": {
        "id": "UE3nv2Vka_EI"
      },
      "source": [
        "---\n",
        "##if文"
      ]
    },
    {
      "cell_type": "markdown",
      "metadata": {
        "id": "c_UjETl0csHu"
      },
      "source": [
        "###【参考】\n",
        "比較演算子（2つの値を比較する演算子）\n",
        "\n",
        "| 演算子| 機能 |\n",
        "|----|----|\n",
        "| a < b | aがbより小さければTrue，そうでなければFalseを生成 |\n",
        "| a > b | aがbより大きければTrueを，そうでなければFlaseを生成|\n",
        "| a <= b | aがb以下ならばTrue，そうでなければFalseを生成 |\n",
        "| a >= b | aがb以上ならばTrueを，そうでなければFlaseを生成|\n",
        "| a == b | aとbが等しければTrue，そうでなければFalseを生成 |\n",
        "| a != b | aとbが等しくなければTrueを，そうでなければFlaseを生成|"
      ]
    },
    {
      "cell_type": "markdown",
      "metadata": {
        "id": "2P1XAcYAep2y"
      },
      "source": [
        "###(3)\n",
        "キーボードで入力された整数a,bについて，aをbで割った商（整数）と余りが等しい場合，Yesと表示とするプログラムを作成してください．\n",
        "\n",
        "実行例：\n",
        "\n",
        "```\n",
        "整数a = 3\n",
        "整数b = 2\n",
        "Yes\n",
        "```\n",
        "```\n",
        "整数a = 5\n",
        "整数b = 2\n",
        "```\n"
      ]
    },
    {
      "cell_type": "code",
      "metadata": {
        "id": "ss1X79uEW9NE"
      },
      "source": [
        "# ここにコードを記述してください．\n",
        "\n",
        "\n"
      ],
      "execution_count": null,
      "outputs": []
    },
    {
      "cell_type": "markdown",
      "metadata": {
        "id": "9RZtThP8wC02"
      },
      "source": [
        "###【参考】\n",
        "論理演算子\n",
        "\n",
        "| 演算子| 機能 |\n",
        "|----|----|\n",
        "| X and Y | XもYも真ならばTrue，そうでなければFalseを生成 |\n",
        "| X or Y | XもYも偽ならばFalse，そうでなければTrueを生成 |\n",
        "| not X | Xが真であればFalseを，そうでなければ（Xが偽であれば）Trueを生成|"
      ]
    },
    {
      "cell_type": "markdown",
      "metadata": {
        "id": "rKS-M7BcvHKT"
      },
      "source": [
        "###(4)\n",
        "キーボードで入力された整数xが0以上かつ5未満の場合，Yesと表示するプログラムを作成してください．\n",
        "\n",
        "実行例：\n",
        "```\n",
        "整数x = 4\n",
        "Yes\n",
        "```\n",
        "```\n",
        "整数x = 10\n",
        "```"
      ]
    },
    {
      "cell_type": "code",
      "metadata": {
        "id": "wl1PNjvxyw2l"
      },
      "source": [
        "# ここにコードを記述してください．\n",
        "\n",
        "\n"
      ],
      "execution_count": null,
      "outputs": []
    },
    {
      "cell_type": "markdown",
      "metadata": {
        "id": "0asNS9JmWgSn"
      },
      "source": [
        "###(5)\n",
        "キーボードで入力された整数aが偶数なら「偶数です」，奇数なら「奇数です」と表示するプログラムを作成してください．\n",
        "\n",
        "実行例：\n",
        "```\n",
        "整数a = 3\n",
        "奇数です\n",
        "```\n",
        "```\n",
        "整数a = 4\n",
        "偶数です\n",
        "```"
      ]
    },
    {
      "cell_type": "code",
      "metadata": {
        "id": "RPXu4ygYWftO"
      },
      "source": [
        "# ここにコードを記述してください．\n",
        "\n",
        "\n"
      ],
      "execution_count": null,
      "outputs": []
    },
    {
      "cell_type": "markdown",
      "metadata": {
        "id": "i-icLrWUYNQI"
      },
      "source": [
        "###(6)\n",
        "キーボードで入力された点数（0～100）が，90以上の場合は「秀」，80～90の場合は「優」，70～80以上の場合は「良」，60～70の場合は「可」，60未満の場合は「不可」を表示するプログラムを作成してください．\n",
        "\n",
        "実行例：\n",
        "```\n",
        "点数？ 95\n",
        "優\n",
        "```\n",
        "```\n",
        "点数？ 48\n",
        "不可\n",
        "```"
      ]
    },
    {
      "cell_type": "code",
      "metadata": {
        "id": "1h_Zr1ZrZAJs"
      },
      "source": [
        "# ここにコードを記述してください．\n",
        "\n",
        "\n"
      ],
      "execution_count": null,
      "outputs": []
    },
    {
      "cell_type": "markdown",
      "metadata": {
        "id": "aT2rBeA_auc4"
      },
      "source": [
        "---\n",
        "##for文"
      ]
    },
    {
      "cell_type": "markdown",
      "source": [
        "###(7)\n",
        "for文とrangeオブジェクトを使って，下のように70以下の7の倍数を表示するプログラムを作成してください．\n",
        "\n",
        "実行例：\n",
        "```\n",
        "7\n",
        "14\n",
        "21\n",
        "28\n",
        "35\n",
        "42\n",
        "49\n",
        "56\n",
        "63\n",
        "70\n",
        "```"
      ],
      "metadata": {
        "id": "3CjpzD0HW1HW"
      }
    },
    {
      "cell_type": "code",
      "source": [
        "# ここにコードを記述してください．\n",
        "\n",
        "\n"
      ],
      "metadata": {
        "id": "-EygwRAaXZTe"
      },
      "execution_count": null,
      "outputs": []
    },
    {
      "cell_type": "markdown",
      "source": [
        "###(8)\n",
        "(7)で表示した数値\n",
        "\n",
        "（70以下の7の倍数）の合計を表示するプログラムを作成してください．"
      ],
      "metadata": {
        "id": "7q1kFe4UXlkk"
      }
    },
    {
      "cell_type": "code",
      "source": [
        "# ここにコードを記述してください．\n",
        "\n",
        "\n"
      ],
      "metadata": {
        "id": "3UxXqrzPXtDV"
      },
      "execution_count": null,
      "outputs": []
    },
    {
      "cell_type": "markdown",
      "metadata": {
        "id": "XRb_zI4D0uLN"
      },
      "source": [
        "---\n",
        "##while文"
      ]
    },
    {
      "cell_type": "markdown",
      "metadata": {
        "id": "PrbAFW5y04Fi"
      },
      "source": [
        "###(9)\n",
        "while文を使って，下の例のように5から0までをカウントダウンするプログラムを作成してください．\n",
        "\n",
        "実行例：\n",
        "```\n",
        "5\n",
        "4\n",
        "3\n",
        "2\n",
        "1\n",
        "0\n",
        "```"
      ]
    },
    {
      "cell_type": "code",
      "metadata": {
        "id": "5QOuAS7a051L"
      },
      "source": [
        "# ここにコードを記述してください．\n",
        "\n",
        "\n"
      ],
      "execution_count": null,
      "outputs": []
    },
    {
      "cell_type": "markdown",
      "metadata": {
        "id": "NSyKrk8x1M1t"
      },
      "source": [
        "###(10)\n",
        "(7)と同じ表示を，for文ではなくwhile文を使って実現するプログラムを作成してください．"
      ]
    },
    {
      "cell_type": "code",
      "metadata": {
        "id": "a2zqk9rO1BRI"
      },
      "source": [
        "# ここにコードを記述してください．\n",
        "\n",
        "\n"
      ],
      "execution_count": null,
      "outputs": []
    },
    {
      "cell_type": "markdown",
      "source": [
        "###(11)\n",
        "(8)と同じ表示を，for文ではなくwhile文を使って実現するプログラムを作成してください．"
      ],
      "metadata": {
        "id": "WCQTLhrGaOnE"
      }
    },
    {
      "cell_type": "code",
      "source": [
        "# ここにコードを記述してください．\n",
        "\n",
        "\n"
      ],
      "metadata": {
        "id": "ObWrje-YaOnQ"
      },
      "execution_count": null,
      "outputs": []
    },
    {
      "cell_type": "markdown",
      "metadata": {
        "id": "2y9EN5szvdp5"
      },
      "source": [
        "---\n",
        "##break文とcontinue文"
      ]
    },
    {
      "cell_type": "markdown",
      "metadata": {
        "id": "w1EMxrZD8jo2"
      },
      "source": [
        "###(12)\n",
        "下のコードは，1から30までの整数のうち，3の倍数ではないもののみ表示するプログラムです．コード中の指示に従って追記して，正しく動作するようにしてください．\n",
        "\n",
        "実行例：\n",
        "```\n",
        "1\n",
        "2\n",
        "4\n",
        "5\n",
        "7\n",
        "8\n",
        "10\n",
        "11\n",
        "13\n",
        "14\n",
        "16\n",
        "17\n",
        "19\n",
        "20\n",
        "22\n",
        "23\n",
        "25\n",
        "26\n",
        "28\n",
        "29\n",
        "```"
      ]
    },
    {
      "cell_type": "code",
      "metadata": {
        "id": "mEGQ25G7AjEu"
      },
      "source": [
        "# ここにコードを記述してください．\n",
        "\n",
        "\n"
      ],
      "execution_count": null,
      "outputs": []
    },
    {
      "cell_type": "markdown",
      "metadata": {
        "id": "le2xhJenblC2"
      },
      "source": [
        "###(13)\n",
        "1から30までの整数のうち，3の倍数ではないものを加算していき，その加算値が50以上になった時点でその加算値を表示して終了するプログラムを作成してください．"
      ]
    },
    {
      "cell_type": "code",
      "metadata": {
        "id": "lhvSsJ0JblC3"
      },
      "source": [
        "# ここにコードを記述してください．\n",
        "\n",
        "\n"
      ],
      "execution_count": null,
      "outputs": []
    },
    {
      "cell_type": "markdown",
      "source": [
        "---\n",
        "##さらに\n",
        "\n",
        "以上の各演習問題について，Visual Studio Codeで .pyファイル として作成しプロンプトで実行してみましょう．"
      ],
      "metadata": {
        "id": "xTCD4KvqhTqC"
      }
    }
  ]
}