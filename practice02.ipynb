{
  "nbformat": 4,
  "nbformat_minor": 0,
  "metadata": {
    "colab": {
      "provenance": [],
      "authorship_tag": "ABX9TyPvkl1yK3Ha9e7TQMgv/yH6",
      "include_colab_link": true
    },
    "kernelspec": {
      "name": "python3",
      "display_name": "Python 3"
    },
    "language_info": {
      "name": "python"
    }
  },
  "cells": [
    {
      "cell_type": "markdown",
      "metadata": {
        "id": "view-in-github",
        "colab_type": "text"
      },
      "source": [
        "<a href=\"https://colab.research.google.com/github/mitsugami/python-basic/blob/main/practice02.ipynb\" target=\"_parent\"><img src=\"https://colab.research.google.com/assets/colab-badge.svg\" alt=\"Open In Colab\"/></a>"
      ]
    },
    {
      "cell_type": "markdown",
      "metadata": {
        "id": "fBm6tcbx6FfB"
      },
      "source": [
        "# Python基礎（第2回）講義補足用Notebook"
      ]
    },
    {
      "cell_type": "markdown",
      "source": [
        "講義動画で紹介したコードを中心に紹介しています．コードをそのまま実行したり，自由に書き換えて実行して，理解を深めましょう．"
      ],
      "metadata": {
        "id": "hxrmvnDo83Y6"
      }
    },
    {
      "cell_type": "markdown",
      "source": [
        "---\n",
        "## データの型"
      ],
      "metadata": {
        "id": "1uIMp2Pk6IK7"
      }
    },
    {
      "cell_type": "markdown",
      "source": [
        "type関数でさまざまなデータの型を確認しましょう．\n",
        "\n",
        "対話実行モードと表示の仕方が少し違いますが，型は確認できますね．\n"
      ],
      "metadata": {
        "id": "YvF-wZHo6Uxw"
      }
    },
    {
      "cell_type": "code",
      "source": [
        "type(10)"
      ],
      "metadata": {
        "id": "jtmZ02eP6Yy9"
      },
      "execution_count": null,
      "outputs": []
    },
    {
      "cell_type": "code",
      "source": [
        "type(0.5)"
      ],
      "metadata": {
        "id": "t_80BmO16bAC"
      },
      "execution_count": null,
      "outputs": []
    },
    {
      "cell_type": "code",
      "source": [
        "type('こんにちは')"
      ],
      "metadata": {
        "id": "n3FL6Nvp6cLJ"
      },
      "execution_count": null,
      "outputs": []
    },
    {
      "cell_type": "code",
      "source": [
        "type(True)"
      ],
      "metadata": {
        "id": "RYaC14016eE1"
      },
      "execution_count": null,
      "outputs": []
    },
    {
      "cell_type": "markdown",
      "source": [
        "値を変数に代入した後にその変数の型を調べても構いません．"
      ],
      "metadata": {
        "id": "Y7PrxXP_9WDp"
      }
    },
    {
      "cell_type": "code",
      "source": [
        "a = 10\n",
        "type(a)"
      ],
      "metadata": {
        "id": "24Xk4T6G6fvE"
      },
      "execution_count": null,
      "outputs": []
    },
    {
      "cell_type": "code",
      "source": [
        "b = 'こんにちは'\n",
        "type(b)"
      ],
      "metadata": {
        "id": "eKbabvFq6h6y"
      },
      "execution_count": null,
      "outputs": []
    },
    {
      "cell_type": "markdown",
      "source": [
        "---\n",
        "## 算術演算と型"
      ],
      "metadata": {
        "id": "hEsW5yWO6xa-"
      }
    },
    {
      "cell_type": "markdown",
      "source": [
        "int型同士の加算・減算・乗算の結果はint型です．"
      ],
      "metadata": {
        "id": "ggL6OAyA7OQz"
      }
    },
    {
      "cell_type": "code",
      "source": [
        "a = 3 + 2\n",
        "print(a)\n",
        "type(a)"
      ],
      "metadata": {
        "id": "6U7e2I8p6z8v"
      },
      "execution_count": null,
      "outputs": []
    },
    {
      "cell_type": "markdown",
      "source": [
        "int型同士の除算はfloat型になります．"
      ],
      "metadata": {
        "id": "mA9JG0IM7X0Q"
      }
    },
    {
      "cell_type": "code",
      "source": [
        "b = 3 / 2\n",
        "print(b)\n",
        "type(b)"
      ],
      "metadata": {
        "id": "tKCHD82Z7csk"
      },
      "execution_count": null,
      "outputs": []
    },
    {
      "cell_type": "markdown",
      "source": [
        "除算結果が整数の範囲で割り切れる場合でも，計算結果の型はfloat型になる点に気をつけましょう．"
      ],
      "metadata": {
        "id": "2rta0R-F7ldz"
      }
    },
    {
      "cell_type": "code",
      "source": [
        "b = 4 / 2\n",
        "print(b)\n",
        "type(b)"
      ],
      "metadata": {
        "id": "sqvHOSIN7zOV"
      },
      "execution_count": null,
      "outputs": []
    },
    {
      "cell_type": "markdown",
      "source": [
        "商と余りを計算したい場合は,  **//** と **%** を使います．"
      ],
      "metadata": {
        "id": "d64IUQde74Lr"
      }
    },
    {
      "cell_type": "code",
      "source": [
        "c = 15 // 7\n",
        "print(c)\n",
        "d = 15 % 7\n",
        "print(d)"
      ],
      "metadata": {
        "id": "EZ4JZ0mv7_tt"
      },
      "execution_count": null,
      "outputs": []
    },
    {
      "cell_type": "markdown",
      "source": [
        "int型とfloat型が混ざった演算を行うと，計算結果はfloat型になります．"
      ],
      "metadata": {
        "id": "cQrPHwm09Zxs"
      }
    },
    {
      "cell_type": "code",
      "source": [
        "e = 3.0 + 2\n",
        "print(e)\n",
        "type(e)"
      ],
      "metadata": {
        "id": "t9FhvyUL9jrO"
      },
      "execution_count": null,
      "outputs": []
    },
    {
      "cell_type": "markdown",
      "source": [
        "---\n",
        "## 文字列"
      ],
      "metadata": {
        "id": "eJYd3c69-Axu"
      }
    },
    {
      "cell_type": "markdown",
      "source": [
        "### 文字列の演算\n",
        "\n",
        "文字列同士に対する加算（+演算子）は，文字列の連結になります．"
      ],
      "metadata": {
        "id": "31r4gMWrBKKI"
      }
    },
    {
      "cell_type": "code",
      "source": [
        "a = 'AAA' + 'BBB'\n",
        "print(a)"
      ],
      "metadata": {
        "id": "iviXw2hm-aka"
      },
      "execution_count": null,
      "outputs": []
    },
    {
      "cell_type": "code",
      "source": [
        "a = 'AAA'\n",
        "b = 'BBB'\n",
        "c = a + b\n",
        "print(c)"
      ],
      "metadata": {
        "id": "Nda8HyzN-e7a"
      },
      "execution_count": null,
      "outputs": []
    },
    {
      "cell_type": "markdown",
      "source": [
        "文字列に整数をかける（*演算子）と，その文字列を繰り返して連結します．"
      ],
      "metadata": {
        "id": "tNtK4xik-lM9"
      }
    },
    {
      "cell_type": "code",
      "source": [
        "a = 'ABC' * 3\n",
        "print(a)"
      ],
      "metadata": {
        "id": "OyBopoTi-scn"
      },
      "execution_count": null,
      "outputs": []
    },
    {
      "cell_type": "markdown",
      "source": [
        "数値に文字列をくっつけて表示したい場合，数値データ（int型やfloat型）と文字列をそのまま加算（連結）することはできません．ですので，以下のコードはエラーとなります．"
      ],
      "metadata": {
        "id": "MuWIhbW0--b2"
      }
    },
    {
      "cell_type": "code",
      "source": [
        "price = 500\n",
        "a = price + '円'\n",
        "print(a)"
      ],
      "metadata": {
        "id": "JzLGvZv2_Tin"
      },
      "execution_count": null,
      "outputs": []
    },
    {
      "cell_type": "markdown",
      "source": [
        "### 数値→文字列の変換\n",
        "\n",
        "このような場合は，str関数を使って数値を文字列に変換してから連結します．"
      ],
      "metadata": {
        "id": "eOo0mFfpBNCZ"
      }
    },
    {
      "cell_type": "code",
      "source": [
        "price = 500\n",
        "a = str(price) + '円'\n",
        "print(a)"
      ],
      "metadata": {
        "id": "zfoag6R3_htG"
      },
      "execution_count": null,
      "outputs": []
    },
    {
      "cell_type": "markdown",
      "source": [
        "上では，変数priceにint型の500を代入していますが，以下のように文字列に変換したものを変数priceに入れてももちろん構いません．"
      ],
      "metadata": {
        "id": "FkBjJP9e_r4Q"
      }
    },
    {
      "cell_type": "code",
      "source": [
        "price = str(500)\n",
        "a = price + '円'\n",
        "print(a)"
      ],
      "metadata": {
        "id": "lnO5uab6_rNY"
      },
      "execution_count": null,
      "outputs": []
    },
    {
      "cell_type": "markdown",
      "source": [
        "### フォーマット文字列\n",
        "\n",
        "複数の変数の値を含む表示をしたい場合は，フォーマット文字列を使うと便利です．"
      ],
      "metadata": {
        "id": "rZ_A8XQFBQmh"
      }
    },
    {
      "cell_type": "code",
      "source": [
        "kokugo = 80\n",
        "sansu  = 75\n",
        "rika   = 85\n",
        "shakai = 70\n",
        "print(f'国語が{kokugo}点，算数が{sansu}点，理科が{rika}点，社会が{shakai}点です．')"
      ],
      "metadata": {
        "id": "rKpGIcV2AVV_"
      },
      "execution_count": null,
      "outputs": []
    },
    {
      "cell_type": "markdown",
      "source": [
        "フォーマット文字列を使わずに，文字列の連結で書こうとするとかなり煩雑になります．"
      ],
      "metadata": {
        "id": "PhjWZqkAAqF7"
      }
    },
    {
      "cell_type": "code",
      "source": [
        "kokugo = 80\n",
        "sansu  = 75\n",
        "rika   = 85\n",
        "shakai = 70\n",
        "print('国語が' + str(kokugo) + '点，算数が' + str(sansu) + '点，理科が' + str(rika) + '点，社会が' + str(shakai)+ '点です．')"
      ],
      "metadata": {
        "id": "eYk2K2-YAwQx"
      },
      "execution_count": null,
      "outputs": []
    },
    {
      "cell_type": "markdown",
      "source": [
        "### 文字列→数値の変換\n",
        "\n",
        "文字列として与えられた数値情報に演算を施したい場合は，int関数やfloat関数を使って文字列を数値に変換しましょう．"
      ],
      "metadata": {
        "id": "C3mQi1gXBW4F"
      }
    },
    {
      "cell_type": "code",
      "source": [
        "a = '500'\n",
        "b = int(a) * 2\n",
        "print(b)"
      ],
      "metadata": {
        "id": "8Mf-0XdXBoF9"
      },
      "execution_count": null,
      "outputs": []
    },
    {
      "cell_type": "code",
      "source": [
        "a = 3.7\n",
        "b = float(a) * 5\n",
        "print(b)"
      ],
      "metadata": {
        "id": "qSe2ifEKBtgw"
      },
      "execution_count": null,
      "outputs": []
    },
    {
      "cell_type": "markdown",
      "source": [
        "### 文字列の長さ\n",
        "\n",
        "文字列の長さ（文字数）を取得したい場合は len関数 を使います．"
      ],
      "metadata": {
        "id": "-_oODRdqB2vV"
      }
    },
    {
      "cell_type": "code",
      "source": [
        "len('Hello')"
      ],
      "metadata": {
        "id": "W1XKw8c2B_qz"
      },
      "execution_count": null,
      "outputs": []
    },
    {
      "cell_type": "code",
      "source": [
        "a = 'Python'\n",
        "len(a)"
      ],
      "metadata": {
        "id": "Uw5fqbgmCCIS"
      },
      "execution_count": null,
      "outputs": []
    },
    {
      "cell_type": "markdown",
      "source": [
        "### 文字列の個々の文字へのアクセス\n",
        "\n",
        "文字列の個々の文字は，インデックスを使ってアクセスできます．"
      ],
      "metadata": {
        "id": "P2rZnKWlCe3x"
      }
    },
    {
      "cell_type": "code",
      "source": [
        "a = 'Python'\n",
        "print(a[0])\n",
        "print(a[4])"
      ],
      "metadata": {
        "id": "DyplSRQ2Cnbr"
      },
      "execution_count": null,
      "outputs": []
    },
    {
      "cell_type": "markdown",
      "source": [
        "---\n",
        "## リスト"
      ],
      "metadata": {
        "id": "UB6KnZPjCuRS"
      }
    },
    {
      "cell_type": "markdown",
      "source": [
        "### インデックスによるアクセス\n",
        "N個の要素をもつリストにおいて，先頭（1つ目）の要素のインデックスは 0 ，最後の要素のインデックスは N-1 となります．"
      ],
      "metadata": {
        "id": "MwDdz-g5VLr9"
      }
    },
    {
      "cell_type": "code",
      "source": [
        "a = [10, 20, 30, 40, 50]\n",
        "print(a[0])\n",
        "print(a[1])\n",
        "print(a[4])"
      ],
      "metadata": {
        "id": "-lAAcoZ5UhG7"
      },
      "execution_count": null,
      "outputs": []
    },
    {
      "cell_type": "markdown",
      "source": [
        "### マイナスのインデックス\n",
        "インデックスにはマイナスの値も使えます．\n",
        "リストの長さ（要素の個数）が分からない，あるいは，途中で変化するようなプログラムでも，インデックス -1 は常に末尾の要素を指します．"
      ],
      "metadata": {
        "id": "XUctnVKtVQSs"
      }
    },
    {
      "cell_type": "code",
      "source": [
        "a = [10, 20, 30, 40, 50]\n",
        "print(a[-1])\n",
        "print(a[-2])\n",
        "print(a[-5])\n",
        "print(a[len(a)-1])"
      ],
      "metadata": {
        "id": "nwuSt9yJUp7U"
      },
      "execution_count": null,
      "outputs": []
    },
    {
      "cell_type": "markdown",
      "source": [
        "---\n",
        "## モジュール"
      ],
      "metadata": {
        "id": "XFLrY2VEVEE8"
      }
    },
    {
      "cell_type": "markdown",
      "source": [
        "### mathモジュールを使った例"
      ],
      "metadata": {
        "id": "ULm-nQEhPXKh"
      }
    },
    {
      "cell_type": "code",
      "source": [
        "import math\n",
        "print( math.sqrt(2) )\n",
        "print( math.floor(12.345) )\n",
        "print( math.pi )"
      ],
      "metadata": {
        "id": "l9YhnLF-PdSo"
      },
      "execution_count": null,
      "outputs": []
    },
    {
      "cell_type": "markdown",
      "source": [
        "モジュールには別名をつける使うこともできます"
      ],
      "metadata": {
        "id": "ja8eb9YdPvFb"
      }
    },
    {
      "cell_type": "code",
      "source": [
        "import math as m\n",
        "print( m.sqrt(2) )\n",
        "print( m.floor(12.345) )\n",
        "print( m.pi )"
      ],
      "metadata": {
        "id": "lNUvGJjSP0PF"
      },
      "execution_count": null,
      "outputs": []
    },
    {
      "cell_type": "markdown",
      "source": [
        "---\n",
        "## 自由演習\n",
        "\n",
        "以下に自由にコードを作成・実行して，知識を定着させ，理解を深めましょう．"
      ],
      "metadata": {
        "id": "qS8FE2BSg__a"
      }
    },
    {
      "cell_type": "code",
      "source": [
        "\n",
        "\n"
      ],
      "metadata": {
        "id": "BlBQCUFPhPft"
      },
      "execution_count": null,
      "outputs": []
    },
    {
      "cell_type": "markdown",
      "source": [
        "---\n",
        "第2回の演習は以上です．お疲れ様でした．"
      ],
      "metadata": {
        "id": "xTCD4KvqhTqC"
      }
    }
  ]
}