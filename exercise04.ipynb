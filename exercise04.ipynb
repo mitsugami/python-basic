{
  "nbformat": 4,
  "nbformat_minor": 0,
  "metadata": {
    "colab": {
      "provenance": [],
      "toc_visible": true,
      "authorship_tag": "ABX9TyMjEfVAHnpQswudVnFfqfpX",
      "include_colab_link": true
    },
    "kernelspec": {
      "name": "python3",
      "display_name": "Python 3"
    },
    "language_info": {
      "name": "python"
    }
  },
  "cells": [
    {
      "cell_type": "markdown",
      "metadata": {
        "id": "view-in-github",
        "colab_type": "text"
      },
      "source": [
        "<a href=\"https://colab.research.google.com/github/mitsugami/python-basic/blob/main/exercise04.ipynb\" target=\"_parent\"><img src=\"https://colab.research.google.com/assets/colab-badge.svg\" alt=\"Open In Colab\"/></a>"
      ]
    },
    {
      "cell_type": "markdown",
      "metadata": {
        "id": "fBm6tcbx6FfB"
      },
      "source": [
        "# Python基礎 Live演習（第4回）\n",
        "\n",
        "これは， **Python基礎【第5回】～関数～** の演習課題です．"
      ]
    },
    {
      "cell_type": "markdown",
      "source": [
        "---\n",
        "## 関数"
      ],
      "metadata": {
        "id": "XjzehvlIW8Hq"
      }
    },
    {
      "cell_type": "markdown",
      "metadata": {
        "id": "khDbTqXToaI2"
      },
      "source": [
        "###(1)\n",
        "以下のように，上底・下底・高さを順にキーボード入力すると，そのような台形の面積を返すプログラムです．trapez 関数の中身を記入して，プログラムが正しく動作するようにしてください．\n",
        "\n",
        "実行例：\n",
        "```\n",
        "上底：3\n",
        "下底：5\n",
        "高さ：4\n",
        "この台形の面積は 16.0 です\n",
        "```"
      ]
    },
    {
      "cell_type": "code",
      "metadata": {
        "id": "IHjuYiepopJS"
      },
      "source": [
        "def trapez(upper, lower, height):\n",
        "  # ここにコードを記述してください．\n",
        "  \n",
        "\n",
        "\n",
        "# 以降は書き換えないでください．\n",
        "jotei = int( input('上底：') )\n",
        "katei = int( input('下底：') )\n",
        "takasa = int( input('高さ：') )\n",
        "menseki = trapez(jotei, katei, takasa)\n",
        "print('この台形の面積は', menseki, 'です')"
      ],
      "execution_count": null,
      "outputs": []
    },
    {
      "cell_type": "markdown",
      "metadata": {
        "id": "Y9bmedf7pA6j"
      },
      "source": [
        "###(2)\n",
        "以下の例のように，まず商品の金額をキーボード入力すると，「店内(T)」か「持帰り(M)」かを聞かれ，Tなら消費税10％，Mなら消費税8％として税込金額を表示するプログラムを作ろう．\n",
        "\n",
        "ただし，以下の条件を満たすこと．\n",
        "\n",
        "* 税抜金額と消費税率を引数として税込金額を返す関数 zeikomi(price, rate) を作成して用いること．\n",
        "* 税込金額は小数点以下は切り捨てること．\n",
        "* 店内・持帰りの質問でT,M以外が入力された場合は，「プログラムを終了します」と表示すること．\n",
        "\n",
        "実行例：\n",
        "\n",
        "```\n",
        "商品の金額：500\n",
        "店内ならT，持帰りならMと入力してください：T\n",
        "税込金額は 550 です\n",
        "```\n",
        "\n",
        "```\n",
        "商品の金額：400\n",
        "店内ならT，持帰りならMと入力してください：M\n",
        "税込金額は 432 です\n",
        "```\n",
        "\n",
        "```\n",
        "商品の金額：300\n",
        "店内ならT，持帰りならMと入力してください：A\n",
        "プログラムを終了します\n",
        "```\n"
      ]
    },
    {
      "cell_type": "code",
      "metadata": {
        "id": "2hCpdaAh1Gw2"
      },
      "source": [
        "# ここにコードを記述してください．\n",
        "\n",
        "\n"
      ],
      "execution_count": null,
      "outputs": []
    },
    {
      "cell_type": "markdown",
      "metadata": {
        "id": "q5agiGjkgaG4"
      },
      "source": [
        "###(3)\n",
        "\n",
        "1から40の整数のうち，3の倍数と3のつく数のみに '*' をつけるプログラムを作りたい．以下の①・②の指示に従ってプログラムを完成させよ．"
      ]
    },
    {
      "cell_type": "markdown",
      "metadata": {
        "id": "rZFjsAQ8hk0v"
      },
      "source": [
        "####①\n",
        "引数として与えられた数が3の倍数か3がつく数ならTrue，それ以外ならFalseを返す（戻り値とする）関数 nabeatsu を作成せよ．\n",
        "\n",
        "【ヒント】\n",
        "* 1の位が3の数字 → 10で割った余りが3\n",
        "* 10の位が3の数字 → 10で割った商が3"
      ]
    },
    {
      "cell_type": "code",
      "metadata": {
        "id": "Ly07XrC6gc-t"
      },
      "source": [
        "def nabeatsu(num):\n",
        "  # ここにコードを記述してください．\n",
        "\n",
        "\n",
        "\n",
        "# 下の行は動作確認用です．数字を変えて実行して結果を確認するのに使ってください．\n",
        "print( nabeatsu(12) )"
      ],
      "execution_count": null,
      "outputs": []
    },
    {
      "cell_type": "markdown",
      "metadata": {
        "id": "mt5FbbFkywu4"
      },
      "source": [
        "####②\n",
        "1から40までの小さいものから順に表示，ただし，3の倍数か3つく数には '*' をつけて表示する（以下の実行例参照）プログラムを作成せよ．上で作った nabeatsu 関数を流用（コピー＆ペースト）して構わない．\n",
        "\n",
        "表示すべき内容：\n",
        "```\n",
        "1\n",
        "2\n",
        "3 *\n",
        "4\n",
        "5\n",
        "6 *\n",
        "・・・（略）・・・\n",
        "37 *\n",
        "38 *\n",
        "39 *\n",
        "40\n",
        "```"
      ]
    },
    {
      "cell_type": "code",
      "metadata": {
        "id": "SaBPy9gfywaJ"
      },
      "source": [
        "# ここにコードを記述してください．\n",
        "\n",
        "\n"
      ],
      "execution_count": null,
      "outputs": []
    },
    {
      "cell_type": "markdown",
      "source": [
        "---\n",
        "## デフォルト引数\n"
      ],
      "metadata": {
        "id": "MH09UNXEo44x"
      }
    },
    {
      "cell_type": "markdown",
      "metadata": {
        "id": "ZqswNRfIdh8m"
      },
      "source": [
        "###(4)\n",
        "まず，半径 radius と円周率 pi を引数として，円の面積を返す関数 circle を作成してください．たたし，円周率 pi のデフォルト値は 3.14 としてください．\n",
        "\n",
        "次に，この関数 circle を使って，円周率はデフォルト値のままとして，半径8の円の面積を求め，表示してください．\n",
        "\n",
        "さらに，引数 pi に 3 を代入して，円周率を3とした際の半径8の円の面積を求め，表示してください．\n"
      ]
    },
    {
      "cell_type": "code",
      "metadata": {
        "id": "itqPYkf_TC_H"
      },
      "source": [
        "# 以下にコードを書いてください\n",
        "\n",
        "\n"
      ],
      "execution_count": null,
      "outputs": []
    },
    {
      "cell_type": "markdown",
      "source": [
        "---\n",
        "##さらに\n",
        "\n",
        "以上の各演習問題について，Visual Studio Codeで .pyファイル として作成しプロンプトで実行してみましょう．"
      ],
      "metadata": {
        "id": "Pqmx2nycApxs"
      }
    }
  ]
}