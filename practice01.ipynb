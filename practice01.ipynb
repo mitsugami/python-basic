{
  "cells": [
    {
      "cell_type": "markdown",
      "metadata": {
        "id": "view-in-github",
        "colab_type": "text"
      },
      "source": [
        "<a href=\"https://colab.research.google.com/github/mitsugami/python-basic/blob/main/practice01.ipynb\" target=\"_parent\"><img src=\"https://colab.research.google.com/assets/colab-badge.svg\" alt=\"Open In Colab\"/></a>"
      ]
    },
    {
      "cell_type": "markdown",
      "metadata": {
        "id": "7S7YgaOjvPkV"
      },
      "source": [
        "# Python基礎（第1回）演習用Notebook"
      ]
    },
    {
      "cell_type": "markdown",
      "source": [
        "---\n",
        "## Notebook の基本操作（セルとその実行）"
      ],
      "metadata": {
        "id": "f4Rbd1U1wFAW"
      }
    },
    {
      "cell_type": "markdown",
      "metadata": {
        "id": "mZBPfqKdvPkW"
      },
      "source": [
        "下の矩形ブロック内に4行のプログラムコードが書かれていますが，この矩形ブロックのことを **セル** と呼びます．Jupyter Notebook（Google Colaboratory も Jupyter Notebook 環境のひとつです）では，プログラムコードをこのセルの単位で実行できます．\n",
        "\n",
        "実行するには，下のブロックの左側にマウスを持っていくと表示される実行（▷）ボタンををクリックするか，キーボードで **[Ctrl] + [Enter]** を押します．実行すると，セルの下部に，実行結果が表示されます．\n",
        "\n",
        "なお，Google Colaboratory の場合は，新たに Notebook を開いて初めてセルを実行するときのみ，実行に少し時間を要します（クラウド上に新規の実行環境を生成するためです）．"
      ]
    },
    {
      "cell_type": "code",
      "execution_count": null,
      "metadata": {
        "id": "_8lnNPmIvPkW"
      },
      "outputs": [],
      "source": [
        "a = 1\n",
        "b = 2\n",
        "print(a+b)\n",
        "print(\"Hello, Python Basics\")"
      ]
    },
    {
      "cell_type": "markdown",
      "source": [
        "1つのセルに書かれたコードはまとめて実行されますが，それを複数のセルに分割して，好きな順に実行することもできます．\n",
        "\n",
        "例えば，下の3つのセルを 1つ目 → 2つ目 → 3つ目 の順で実行すると 2 と表示されますが， 2つ目 → 1つ目 → 3つ目 の順で実行すると 1 と表示されます．"
      ],
      "metadata": {
        "id": "VOld8BalvkF0"
      }
    },
    {
      "cell_type": "code",
      "source": [
        "c = 1"
      ],
      "metadata": {
        "id": "sZaApEjswAhr"
      },
      "execution_count": null,
      "outputs": []
    },
    {
      "cell_type": "code",
      "source": [
        "c = 2"
      ],
      "metadata": {
        "id": "Gr64tW_OyuXZ"
      },
      "execution_count": null,
      "outputs": []
    },
    {
      "cell_type": "code",
      "source": [
        "print(c)"
      ],
      "metadata": {
        "id": "XylkHBRSyw7o"
      },
      "execution_count": null,
      "outputs": []
    },
    {
      "cell_type": "markdown",
      "source": [
        "さて，次に下のセルも実行してみてください．これから分かるのとおり，それまでに実行されたセルで代入された変数の値は，セルをまたいで維持されます．"
      ],
      "metadata": {
        "id": "uK95inLdzMvS"
      }
    },
    {
      "cell_type": "code",
      "source": [
        "print(c)"
      ],
      "metadata": {
        "id": "9doJqtIOzl9O"
      },
      "execution_count": null,
      "outputs": []
    },
    {
      "cell_type": "markdown",
      "source": [
        "過去に実行したセルの変数を削除（リセット）したい場合は，下のように書いて実行します．\n",
        "\n",
        "``` %reset -f ```\n",
        "\n",
        "試しに下のセルを実行してみましょう．リセットされた変数cが無くなっているので，エラーを吐きます．"
      ],
      "metadata": {
        "id": "GiQW4PkU2dVo"
      }
    },
    {
      "cell_type": "code",
      "source": [
        "%reset -f\n",
        "print(c)"
      ],
      "metadata": {
        "id": "dyJKxsr20Ic5"
      },
      "execution_count": null,
      "outputs": []
    },
    {
      "cell_type": "markdown",
      "source": [
        "---\n",
        "## Notebookの新規作成・保存"
      ],
      "metadata": {
        "id": "2qGfzRcy37y_"
      }
    },
    {
      "cell_type": "markdown",
      "metadata": {
        "id": "5Pcu8z3tvPkY"
      },
      "source": [
        "Google Colaboratory (Colab) の場合，画面上部のメニューから「ファイル」→「ノートブックを新規作成」を選択することで，新規のノートブックを作成できます．\n",
        "\n",
        "ノートブックにプログラムを記入したり実行したりした後，画面上部のメニューから「ファイル」→「保存」を選択すると，ご自身のGoogleドライブの Colab Notebooks というフォルダの中にそのノートブックが保存されます．"
      ]
    },
    {
      "cell_type": "markdown",
      "source": [
        "---\n",
        "## 演習"
      ],
      "metadata": {
        "id": "mP0JIh1o3tnI"
      }
    },
    {
      "cell_type": "markdown",
      "metadata": {
        "id": "xks7gUGdvPkX"
      },
      "source": [
        "下のブロックに自由にプログラムを記入し，実行してみましょう．\n",
        "上のプログラムを書き写したり，少し書き換えるなどで構いません．"
      ]
    },
    {
      "cell_type": "code",
      "execution_count": null,
      "metadata": {
        "id": "0EgRCihbvPkX"
      },
      "outputs": [],
      "source": []
    },
    {
      "cell_type": "markdown",
      "source": [
        "Google Colaboratory の場合，セルの上側や下側にマウスを持っていくと「＋ コード」と「＋ テキスト」というボタンが現れます．「＋ コード」をクリックすると，コード記述用のセルを挿入できます．ちなみに，「＋ テキスト」をクリックすると，コード用ではなく，文書用のセルが追加されます．"
      ],
      "metadata": {
        "id": "wHcKhxSH4fCo"
      }
    },
    {
      "cell_type": "code",
      "source": [],
      "metadata": {
        "id": "jXJWQXRW492r"
      },
      "execution_count": null,
      "outputs": []
    },
    {
      "cell_type": "markdown",
      "source": [
        "---\n",
        "第1回の演習は以上です．お疲れ様でした．"
      ],
      "metadata": {
        "id": "89LJIneo5Aff"
      }
    }
  ],
  "metadata": {
    "kernelspec": {
      "display_name": "Python 3.10.4 ('py310')",
      "language": "python",
      "name": "python3"
    },
    "language_info": {
      "name": "python",
      "version": "3.10.4"
    },
    "orig_nbformat": 4,
    "vscode": {
      "interpreter": {
        "hash": "eff7b5628f684afde74904fef01e8a19add4c56c0483912728998369e2fa5975"
      }
    },
    "colab": {
      "provenance": [],
      "toc_visible": true,
      "include_colab_link": true
    }
  },
  "nbformat": 4,
  "nbformat_minor": 0
}