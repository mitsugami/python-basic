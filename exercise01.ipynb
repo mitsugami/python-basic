{
  "nbformat": 4,
  "nbformat_minor": 0,
  "metadata": {
    "colab": {
      "provenance": [],
      "toc_visible": true,
      "authorship_tag": "ABX9TyMYBAtdHdEMeMD+HOCcKXDb",
      "include_colab_link": true
    },
    "kernelspec": {
      "name": "python3",
      "display_name": "Python 3"
    },
    "language_info": {
      "name": "python"
    }
  },
  "cells": [
    {
      "cell_type": "markdown",
      "metadata": {
        "id": "view-in-github",
        "colab_type": "text"
      },
      "source": [
        "<a href=\"https://colab.research.google.com/github/mitsugami/python-basic/blob/main/exercise01.ipynb\" target=\"_parent\"><img src=\"https://colab.research.google.com/assets/colab-badge.svg\" alt=\"Open In Colab\"/></a>"
      ]
    },
    {
      "cell_type": "markdown",
      "metadata": {
        "id": "fBm6tcbx6FfB"
      },
      "source": [
        "# Python基礎 Live演習（第1回）\n",
        "\n",
        "これは， **Python基礎【第2回】～型と演算～** の演習課題です．"
      ]
    },
    {
      "cell_type": "markdown",
      "metadata": {
        "id": "UE3nv2Vka_EI"
      },
      "source": [
        "---\n",
        "##算術演算\n"
      ]
    },
    {
      "cell_type": "markdown",
      "metadata": {
        "id": "0j3UZYgxkLVb"
      },
      "source": [
        "以下の計算の結果を表示するプログラムを記述し，実行して結果を確認してください．"
      ]
    },
    {
      "cell_type": "markdown",
      "metadata": {
        "id": "Uxxz5HG5dNOe"
      },
      "source": [
        "###(1)\n",
        "$ 1+2+3+4+5 $"
      ]
    },
    {
      "cell_type": "code",
      "metadata": {
        "id": "Xhs8UGqHdMtD"
      },
      "source": [
        "# ここにコードを記述してください．\n",
        "\n",
        "\n"
      ],
      "execution_count": null,
      "outputs": []
    },
    {
      "cell_type": "markdown",
      "metadata": {
        "id": "2P1XAcYAep2y"
      },
      "source": [
        "###(2)\n",
        "$ (1+2)*3+4 $"
      ]
    },
    {
      "cell_type": "code",
      "metadata": {
        "id": "BKgoAV42SjDq"
      },
      "source": [
        "# ここにコードを記述してください．\n",
        "\n",
        "\n"
      ],
      "execution_count": null,
      "outputs": []
    },
    {
      "cell_type": "markdown",
      "metadata": {
        "id": "quUuZX3Odic5"
      },
      "source": [
        "###(3)\n",
        "$ 1+2+3+4+5+6+7+8+9+10+11+12+13+14+15+16+17+18+19+20 $\n",
        "\n",
        "※ 真面目に全部足し算せず，賢い計算法をしてもらって構いません"
      ]
    },
    {
      "cell_type": "code",
      "metadata": {
        "id": "P6HladtHdd_G"
      },
      "source": [
        "# ここにコードを記述してください．\n",
        "\n",
        "\n"
      ],
      "execution_count": null,
      "outputs": []
    },
    {
      "cell_type": "markdown",
      "metadata": {
        "id": "SGd63zTGdvwZ"
      },
      "source": [
        "###(4)\n",
        "$ 2^{24} $"
      ]
    },
    {
      "cell_type": "code",
      "metadata": {
        "id": "jfPwxeUhd2MG"
      },
      "source": [
        "# ここにコードを記述してください．\n",
        "\n",
        "\n"
      ],
      "execution_count": null,
      "outputs": []
    },
    {
      "cell_type": "markdown",
      "metadata": {
        "id": "IxoWjVeLeC9W"
      },
      "source": [
        "###(5)\n",
        "$ 3^{10}$ を$7$で割った余り\n"
      ]
    },
    {
      "cell_type": "code",
      "metadata": {
        "id": "BGXe47FufSdx"
      },
      "source": [
        "# ここにコードを記述してください．\n",
        "\n",
        "\n"
      ],
      "execution_count": null,
      "outputs": []
    },
    {
      "cell_type": "markdown",
      "metadata": {
        "id": "aT2rBeA_auc4"
      },
      "source": [
        "---\n",
        "##文字列"
      ]
    },
    {
      "cell_type": "markdown",
      "metadata": {
        "id": "dyQaRnzYZ8Gq"
      },
      "source": [
        "###例1\n",
        "自分の氏名を表示してみましょう．\n",
        "\n",
        "（例）Taro Ichidai"
      ]
    },
    {
      "cell_type": "code",
      "metadata": {
        "id": "L5mdhWpfZ_lb"
      },
      "source": [
        "print('Taro Ichidai')"
      ],
      "execution_count": null,
      "outputs": []
    },
    {
      "cell_type": "markdown",
      "metadata": {
        "id": "LHfe8ZqhfmPW"
      },
      "source": [
        "###(6)\n",
        "例1にならって，print関数を使ってご自身の氏名を表示するプログラムを作成し，実行して結果を確認してください．\n"
      ]
    },
    {
      "cell_type": "code",
      "metadata": {
        "id": "Uwb84WPOfmPc"
      },
      "source": [
        "# ここにコードを記述してください．\n",
        "\n",
        "\n"
      ],
      "execution_count": null,
      "outputs": []
    },
    {
      "cell_type": "markdown",
      "metadata": {
        "id": "Qm-rh4MGzk1i"
      },
      "source": [
        "###例2"
      ]
    },
    {
      "cell_type": "code",
      "metadata": {
        "id": "7cxn18HlknFp"
      },
      "source": [
        "'Kyary' +  'Pamyu' * 2"
      ],
      "execution_count": null,
      "outputs": []
    },
    {
      "cell_type": "markdown",
      "source": [
        "文字列は，全角文字（ひらがな・カタカナ・漢字）でも構いません．"
      ],
      "metadata": {
        "id": "v4K2VX7rF4nu"
      }
    },
    {
      "cell_type": "code",
      "source": [
        "'きゃりー' +  'ぱみゅ' * 2"
      ],
      "metadata": {
        "id": "DtJ8PaegFt3z"
      },
      "execution_count": null,
      "outputs": []
    },
    {
      "cell_type": "markdown",
      "metadata": {
        "id": "CggIGw14y-ci"
      },
      "source": [
        "###(7)\n",
        "以下の文字列の演算を使って生成してみよう\n",
        "\n",
        "\n",
        "\n",
        "```\n",
        "うらにわにわにわにわにわにわにわとりがいる\n",
        "```\n",
        "\n",
        "\n",
        "（'にわ' が7回繰り返されます）"
      ]
    },
    {
      "cell_type": "code",
      "metadata": {
        "id": "5jiJju8xzRgU"
      },
      "source": [
        "# ここにコードを記述してください．\n",
        "\n",
        "\n"
      ],
      "execution_count": null,
      "outputs": []
    },
    {
      "cell_type": "markdown",
      "source": [
        "---\n",
        "##変数"
      ],
      "metadata": {
        "id": "MkrZX9BkJFjG"
      }
    },
    {
      "cell_type": "markdown",
      "metadata": {
        "id": "ufFiaqzHJj0_"
      },
      "source": [
        "###(8)\n",
        "下のコードを完成させて，半径5の円の面積を表示しましょう"
      ]
    },
    {
      "cell_type": "code",
      "metadata": {
        "id": "QWCP3F1sJj0_"
      },
      "source": [
        "r = 5\n",
        "pi = 3.14159\n",
        "\n",
        "# ここにコードを記述してください．\n",
        "\n",
        "\n",
        "# 以降は書き換えないでください．\n",
        "print(menseki)"
      ],
      "execution_count": null,
      "outputs": []
    },
    {
      "cell_type": "markdown",
      "metadata": {
        "id": "Uvf8v_hdJj0_"
      },
      "source": [
        "###(9)\n",
        "下のコードを完成させて，pen-pineapple-apple-penと表示しましょう"
      ]
    },
    {
      "cell_type": "code",
      "metadata": {
        "id": "Oa-PM2XMJj0_"
      },
      "source": [
        "a = 'pen'\n",
        "b = 'pine'\n",
        "c = 'apple'\n",
        "d = '-'\n",
        "\n",
        "# ここにコードを記述してください．\n",
        "\n",
        "\n",
        "# 以降は書き換えないでください．\n",
        "print(string)"
      ],
      "execution_count": null,
      "outputs": []
    },
    {
      "cell_type": "markdown",
      "source": [
        "---\n",
        "## 数値と文字列"
      ],
      "metadata": {
        "id": "eJYd3c69-Axu"
      }
    },
    {
      "cell_type": "markdown",
      "source": [
        "###例3\n",
        "\n",
        "数値（int型やfloat型）を文字列(str型）として取り扱い場合は，str関数を使って数値を文字列に変換してから連結します．"
      ],
      "metadata": {
        "id": "eOo0mFfpBNCZ"
      }
    },
    {
      "cell_type": "code",
      "source": [
        "price = 500\n",
        "a = str(price) + '円です'\n",
        "print(a)"
      ],
      "metadata": {
        "id": "zfoag6R3_htG"
      },
      "execution_count": null,
      "outputs": []
    },
    {
      "cell_type": "markdown",
      "source": [
        "###(10)\n",
        "下の表示結果となるようコードを完成させてください．\n",
        "```\n",
        "各学部の定員は，国際学部は100名，情報科学部は210芸術学部は80名です\n",
        "```"
      ],
      "metadata": {
        "id": "DYBXKxVHT7Fn"
      }
    },
    {
      "cell_type": "code",
      "source": [
        "kokusai  = 100\n",
        "jouhou   = 210\n",
        "geijutsu = 80\n",
        "\n",
        "# ここにコードを記述してください．\n",
        "\n",
        "\n",
        "# 以降は書き換えないでください．\n",
        "print(a)"
      ],
      "metadata": {
        "id": "hPFS2kB7UJqv"
      },
      "execution_count": null,
      "outputs": []
    },
    {
      "cell_type": "markdown",
      "source": [
        "###(11)\n",
        "(10)をフォーマット文字列を使って作成してください．"
      ],
      "metadata": {
        "id": "q5yB6IifVPH2"
      }
    },
    {
      "cell_type": "code",
      "source": [
        "kokusai  = 100\n",
        "jouhou   = 210\n",
        "geijutsu = 80\n",
        "\n",
        "# ここにコードを記述してください．\n",
        "\n",
        "\n",
        "# 以降は書き換えないでください．\n",
        "print(a)"
      ],
      "metadata": {
        "id": "jbNXrxHxVO6Y"
      },
      "execution_count": null,
      "outputs": []
    },
    {
      "cell_type": "markdown",
      "source": [
        "---\n",
        "## モジュール"
      ],
      "metadata": {
        "id": "XFLrY2VEVEE8"
      }
    },
    {
      "cell_type": "markdown",
      "metadata": {
        "id": "8RTTK9snzNNH"
      },
      "source": [
        "###例4\n",
        "\n",
        "mathモジュールには以下のような関数・定数が用意されています．\n",
        "\n",
        "|  関数名（引数）  |  内容  |\n",
        "| ---- | ---- |\n",
        "|  sin(x)  |  $\\sin(x)$ （xの単位はラジアン）  |\n",
        "|  cos(x)  |  $\\cos(x)$ （xの単位はラジアン）  |\n",
        "|  tan(x)  |  $\\tan(x)$ （xの単位はラジアン）  |\n",
        "|  sqrt(x)  |  xの平方根 $\\sqrt{x}$  |\n",
        "\n",
        "|  定数  |  内容  |\n",
        "| ---- | ---- |\n",
        "|  pi  |  円周率 $\\pi$  |\n",
        "|  e  |  自然対数の底 $e$  |\n",
        "|  inf  |  浮動小数の正の無限大  |\n",
        "\n",
        "なお，関数の場合は引数の有無に関わらず括弧がつきますが，定数の後には括弧はつきません．例えば円周率 $\\pi$ を使って半径rの円の面積を求めるプログラムは以下のように書きます．\n"
      ]
    },
    {
      "cell_type": "code",
      "source": [
        "import math as m\n",
        "r = 3\n",
        "menseki = r * r * m.pi   # m.pi()とは書かない"
      ],
      "metadata": {
        "id": "EQNGKVkiEwvY"
      },
      "execution_count": null,
      "outputs": []
    },
    {
      "cell_type": "markdown",
      "source": [
        "###(12)\n",
        "\n",
        "mathモジュールを利用して以下の計算結果を表示するプログラムを作成してください．\n",
        "\n",
        "$$ \\sqrt{ \\sin^2(\\frac{\\pi}{4}) + \\cos^2(\\frac{\\pi}{4}) } $$"
      ],
      "metadata": {
        "id": "XxGZwkP4EkTl"
      }
    },
    {
      "cell_type": "code",
      "metadata": {
        "id": "yOaRZPwO0Tik"
      },
      "source": [
        "# ここにコードを記述してください．\n",
        "\n",
        "\n"
      ],
      "execution_count": null,
      "outputs": []
    },
    {
      "cell_type": "markdown",
      "source": [
        "---\n",
        "##さらに\n",
        "\n",
        "以上の各演習問題について，Visual Studio Codeで .pyファイル として作成しプロンプトで実行してみましょう．"
      ],
      "metadata": {
        "id": "xTCD4KvqhTqC"
      }
    }
  ]
}