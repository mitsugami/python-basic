{
  "nbformat": 4,
  "nbformat_minor": 0,
  "metadata": {
    "colab": {
      "provenance": [],
      "toc_visible": true,
      "authorship_tag": "ABX9TyMmvDg+n8F9TL+ESR+NB9wI",
      "include_colab_link": true
    },
    "kernelspec": {
      "name": "python3",
      "display_name": "Python 3"
    },
    "language_info": {
      "name": "python"
    }
  },
  "cells": [
    {
      "cell_type": "markdown",
      "metadata": {
        "id": "view-in-github",
        "colab_type": "text"
      },
      "source": [
        "<a href=\"https://colab.research.google.com/github/mitsugami/python-basic/blob/main/exercise05.ipynb\" target=\"_parent\"><img src=\"https://colab.research.google.com/assets/colab-badge.svg\" alt=\"Open In Colab\"/></a>"
      ]
    },
    {
      "cell_type": "markdown",
      "metadata": {
        "id": "fBm6tcbx6FfB"
      },
      "source": [
        "# Python基礎 Live演習（第5回）\n",
        "\n",
        "これは， **Python基礎【第6回】～ファイル処理～** の演習課題です．\n",
        "\n",
        "Live演習では，以下の各問題について，指定されたファイル名（5-01.pyなど）のコードをVisual Studio Codeなどのエディタで作成し，プロンプトで実行してください．"
      ]
    },
    {
      "cell_type": "markdown",
      "source": [
        "---\n",
        "## ファイルの読み込み"
      ],
      "metadata": {
        "id": "NgTo-rbYFSfc"
      }
    },
    {
      "cell_type": "markdown",
      "source": [
        "まず，以下のセルを実行して， bunsho.txt を用意しましょう．"
      ],
      "metadata": {
        "id": "QDqeMHy-H__w"
      }
    },
    {
      "cell_type": "code",
      "source": [
        "%%file bunsho.txt\n",
        "Hiroshima City University opened in April 1994 with the objective of becoming a\n",
        "higher education institution appropriate for an international city of peace and\n",
        "culture, which is the ideal of Hiroshima City. The University’s founding\n",
        "principle is to become an international university which contributes to world\n",
        "peace and to the prosperity of the community through education and research in\n",
        "science and art. In addition to the three Faculties of International Studies,\n",
        "Information Sciences and Arts, with which the University commenced its history,\n",
        "three associated Graduate Schools were also opened in April 1998 in order to\n",
        "offer internationally acknowledged and advanced specialized education at the\n",
        "graduate level. To fulfill the principles laid out above, the University opened\n",
        "a Graduate School of Peace Studies in 2019 to offer professional level training\n",
        "in Peace Education and Peacebuilding."
      ],
      "metadata": {
        "id": "3YPUQG0OW7mm"
      },
      "execution_count": null,
      "outputs": []
    },
    {
      "cell_type": "markdown",
      "source": [
        "Colabの画面左側，フォルダのアイコンをクリックし， bunsho.txt が生成されていることを確認してください．\n",
        "\n",
        "また， bunsho.txt をダブルクリックすると，画面右側のファイルの中身が表示されますので，それも確認してください．"
      ],
      "metadata": {
        "id": "DyGwwuc4mWka"
      }
    },
    {
      "cell_type": "markdown",
      "metadata": {
        "id": "wBBoZOtFFspd"
      },
      "source": [
        "###(1)\n",
        "bunsho.txt を読み込み，すべて表示するプログラムを作成してください．"
      ]
    },
    {
      "cell_type": "code",
      "metadata": {
        "id": "NfCN-gsgGQCe"
      },
      "source": [
        "# 5-01a.py\n",
        "# ここにコードを記述してください．\n",
        "\n",
        "\n"
      ],
      "execution_count": null,
      "outputs": []
    },
    {
      "cell_type": "markdown",
      "source": [
        "###【参考】\n",
        "上の表示結果では，各行の間に空行が入っていると思います．これは，プログラムの中で読み込んでいる各行の末尾に改行を意味する「改行コード」という文字が入っているためです．print()関数は引数で与えられた文字列を表示した上で改行までを行うため，各行に対して改行が2回適用されることになり，このような表示結果になっています．\n",
        "\n",
        "これを解消するには，読み込んだ1行文字列に対して rstrip()メソッドを使用します．このメソッドにより，文字列の末尾の改行が無くなり，print()関数による改行だけになるため，空行の無い表示ができるようになります．"
      ],
      "metadata": {
        "id": "5EtLPQtCKcIa"
      }
    },
    {
      "cell_type": "code",
      "source": [
        "# 5-01b.py\n",
        "# ここにコードを記述してください．\n",
        "\n",
        "\n"
      ],
      "metadata": {
        "id": "n2TsZHNTLaJc"
      },
      "execution_count": null,
      "outputs": []
    },
    {
      "cell_type": "markdown",
      "source": [
        "###(2)\n",
        "英文が書かれた文字列に対して，その文字数と単語数を表示するプログラムを作成してください．なお，スペースも文字とカウントすることとします．\n",
        "\n",
        "実行例：\n",
        "```\n",
        "文字数は13，単語数は4です．\n",
        "```"
      ],
      "metadata": {
        "id": "_Z7YjCaIJUMO"
      }
    },
    {
      "cell_type": "code",
      "source": [
        "# 5-02.py\n",
        "\n",
        "sentence = 'I have a pen.'\n",
        "\n",
        "# ここにコードを記述してください．\n",
        "\n",
        "\n",
        "\n",
        "# 以降は書き換えないでください．\n",
        "print(f'文字数は{n_chars}，単語数は{n_words}です．')"
      ],
      "metadata": {
        "id": "a2E-brLoNV5P"
      },
      "execution_count": null,
      "outputs": []
    },
    {
      "cell_type": "markdown",
      "source": [
        "###(3)\n",
        "(1)と(2)のプログラムを組合せて，bunsho.txt全体の文字数と単語数を表示するプログラムを作成してください．\n",
        "\n",
        "表示すべき内容：\n",
        "```\n",
        "文字数は888，単語数は134です．\n",
        "```"
      ],
      "metadata": {
        "id": "2iXMYrBcODPI"
      }
    },
    {
      "cell_type": "code",
      "source": [
        "# 5-03.py\n",
        "# ここにコードを記述してください．\n",
        "\n",
        "\n",
        "\n",
        "# 以降は書き換えないでください．\n",
        "print(f'文字数は{sum_chars}，単語数は{sum_words}です．')"
      ],
      "metadata": {
        "id": "g6k0k_m7Nujd"
      },
      "execution_count": null,
      "outputs": []
    },
    {
      "cell_type": "markdown",
      "source": [
        "###(4)\n",
        "(3)のプログラムを改良して，文章中の文の数（ピリオドの個数）も表示するプログラムを作成してください．\n",
        "\n",
        "表示すべき内容：\n",
        "\n",
        "```\n",
        "文字数は888，単語数は134，文の数は4です．\n",
        "```"
      ],
      "metadata": {
        "id": "CTvgW07FnbfS"
      }
    },
    {
      "cell_type": "code",
      "source": [
        "# 5-04.py\n",
        "# ここにコードを記述してください．\n",
        "\n",
        "\n",
        "\n",
        "# 以降は書き換えないでください．\n",
        "print(f'文字数は{sum_chars}，単語数は{sum_words}，文の数は{sum_periods}です．')"
      ],
      "metadata": {
        "id": "O3T-AWU7nbfT"
      },
      "execution_count": null,
      "outputs": []
    },
    {
      "cell_type": "markdown",
      "source": [
        "---\n",
        "## ファイルの書き出し"
      ],
      "metadata": {
        "id": "LvDp53H4aiX9"
      }
    },
    {
      "cell_type": "markdown",
      "source": [
        "###(5)\n",
        "bunsho.txt を読み込み，不定冠詞 (a/an) のみすべて大文字に変換したものを bunsho2.txt として保存するプログラムを作成してください．\n",
        "\n",
        "なお，単語の一部に含まれる a （Hiroshima の末尾の a など）は大文字にはしないようにしてください．"
      ],
      "metadata": {
        "id": "IRUh8CmZmrw6"
      }
    },
    {
      "cell_type": "code",
      "source": [
        "# 5-05.py\n",
        "# ここにコードを記述してください．\n",
        "\n",
        "\n"
      ],
      "metadata": {
        "id": "OP1lfUPZOksG"
      },
      "execution_count": null,
      "outputs": []
    },
    {
      "cell_type": "markdown",
      "source": [
        "---\n",
        "この回の演習は以上で終了です．"
      ],
      "metadata": {
        "id": "Pqmx2nycApxs"
      }
    }
  ]
}