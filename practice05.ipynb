{
  "nbformat": 4,
  "nbformat_minor": 0,
  "metadata": {
    "colab": {
      "provenance": [],
      "authorship_tag": "ABX9TyPcFF8Dx32uGXkdADCq2krY",
      "include_colab_link": true
    },
    "kernelspec": {
      "name": "python3",
      "display_name": "Python 3"
    },
    "language_info": {
      "name": "python"
    }
  },
  "cells": [
    {
      "cell_type": "markdown",
      "metadata": {
        "id": "view-in-github",
        "colab_type": "text"
      },
      "source": [
        "<a href=\"https://colab.research.google.com/github/mitsugami/python-basic/blob/main/practice05.ipynb\" target=\"_parent\"><img src=\"https://colab.research.google.com/assets/colab-badge.svg\" alt=\"Open In Colab\"/></a>"
      ]
    },
    {
      "cell_type": "markdown",
      "metadata": {
        "id": "uakkLSaR3EJN"
      },
      "source": [
        "# Python基礎（第5回）講義補足用Notebook"
      ]
    },
    {
      "cell_type": "markdown",
      "source": [
        "## 関数"
      ],
      "metadata": {
        "id": "XjzehvlIW8Hq"
      }
    },
    {
      "cell_type": "markdown",
      "source": [
        "複数の命令文をひとつにまとめて名前をつけたものを **関数** といいます．何度も使う一連の命令は関数にしておくと便利です．また，関数にしておくと，同じ一連の処理を何度も書く必要がないので，コードが見やすくなります．一連のコードの中に誤りがあった場合，関数にしていないと何箇所も修正が必要になりますが，関数にしておくと一箇所だけの修正で済む，というメリットもあります．"
      ],
      "metadata": {
        "id": "3GuH-I8bZNXp"
      }
    },
    {
      "cell_type": "markdown",
      "source": [
        "### 関数の書き方\n",
        "\n",
        "以下が基本的な関数の書き方の例です．\n",
        "defで始まる行からの3行が関数を定義している箇所です．これだけではこの関数が実行されることはなく，以降で say_hello() を呼び出すことで初めて実行されます．"
      ],
      "metadata": {
        "id": "PML7cuxdlINi"
      }
    },
    {
      "cell_type": "code",
      "source": [
        "def say_hello():\n",
        "  print('こんにちは')\n",
        "  print('今日はよい天気ですね')\n",
        "\n",
        "say_hello()\n",
        "say_hello()"
      ],
      "metadata": {
        "id": "AMPa0bOFaOP5"
      },
      "execution_count": null,
      "outputs": []
    },
    {
      "cell_type": "code",
      "source": [
        "def function_a():\n",
        "  print('function_aの処理です')\n",
        "\n",
        "def function_b():\n",
        "  print('function_bの処理です')\n",
        "\n",
        "function_a()\n",
        "function_b()"
      ],
      "metadata": {
        "id": "NwQkFlqNiMZB"
      },
      "execution_count": null,
      "outputs": []
    },
    {
      "cell_type": "markdown",
      "source": [
        "### 関数定義を書く位置\n",
        "\n",
        "関数の定義は，関数の呼び出しの前に行わなければなりません．\n",
        "\n",
        "下の例では，function_aは実行できますが，function_bは実行できず，エラーとなります．\n",
        "\n",
        "（冒頭に %reset -f と書いているのは，上のセルで function_b を定義した記憶を削除するためです）"
      ],
      "metadata": {
        "id": "QB4_tafalhuo"
      }
    },
    {
      "cell_type": "code",
      "source": [
        "%reset -f\n",
        "def function_a():\n",
        "  print('function_aの処理です')\n",
        "\n",
        "function_a()\n",
        "function_b()\n",
        "\n",
        "def function_b():\n",
        "  print('function_bの処理です')"
      ],
      "metadata": {
        "id": "pBLdI1HtiWfc"
      },
      "execution_count": null,
      "outputs": []
    },
    {
      "cell_type": "markdown",
      "source": [
        "### 関数の呼び出しの階層\n",
        "\n",
        "関数の中で別の関数（同じ関数でも可）を呼び出すこともできます．"
      ],
      "metadata": {
        "id": "FxFZ3wfOmh8k"
      }
    },
    {
      "cell_type": "code",
      "source": [
        "def function_a():\n",
        "  print('function_aの処理です')\n",
        "\n",
        "def function_b():\n",
        "  print('function_bの処理開始')\n",
        "  function_a();\n",
        "  print('function_bの処理終了')\n",
        "\n",
        "print('function_bを呼び出します')\n",
        "function_b()"
      ],
      "metadata": {
        "id": "Sin4ie_nia1A"
      },
      "execution_count": null,
      "outputs": []
    },
    {
      "cell_type": "markdown",
      "source": [
        "### 変数のスコープ"
      ],
      "metadata": {
        "id": "NpvyOyMumvuT"
      }
    },
    {
      "cell_type": "markdown",
      "source": [
        "関数の中で宣言された変数は，その関数ブロックの中のみで参照できます．このような変数を **ローカル変数** といいます．"
      ],
      "metadata": {
        "id": "qjo2VRmsm7VD"
      }
    },
    {
      "cell_type": "code",
      "source": [
        "def function_a():\n",
        "  a = 10\n",
        "  print(a)\n",
        "\n",
        "print(a)"
      ],
      "metadata": {
        "id": "gn0P4L--ipT8"
      },
      "execution_count": null,
      "outputs": []
    },
    {
      "cell_type": "markdown",
      "source": [
        "一方，下の例のように，関数の外で宣言された変数は，関数の中でも参照できます．このような変数を **グローバル変数** といいます．"
      ],
      "metadata": {
        "id": "gklYZLSInA9E"
      }
    },
    {
      "cell_type": "code",
      "source": [
        "a = 10\n",
        "\n",
        "def function_a():\n",
        "  print(a)"
      ],
      "metadata": {
        "id": "z31FaT5Wis9U"
      },
      "execution_count": null,
      "outputs": []
    },
    {
      "cell_type": "markdown",
      "source": [
        "### グローバル変数の書き換え\n",
        "\n",
        "グローバル変数を，関数の中で書き換えたい場合は，globalキーワードを使用する必要があります．"
      ],
      "metadata": {
        "id": "CvOaPjuWnNZU"
      }
    },
    {
      "cell_type": "code",
      "source": [
        "a = 10\n",
        "\n",
        "def function_a():\n",
        "  global a\n",
        "  a = 5\n",
        "\n",
        "function_a()\n",
        "print(a)"
      ],
      "metadata": {
        "id": "yTaJbYjxiw5Y"
      },
      "execution_count": null,
      "outputs": []
    },
    {
      "cell_type": "markdown",
      "source": [
        "globalキーワードを使わないと，グローバル変数と同じ名前の変数を関数内で用意しても，別のローカル変数とみなされます"
      ],
      "metadata": {
        "id": "XkAdkanJnbhw"
      }
    },
    {
      "cell_type": "code",
      "source": [
        "a = 10\n",
        "\n",
        "def function_a():\n",
        "  a = 5\n",
        "\n",
        "function_a()\n",
        "print(a)"
      ],
      "metadata": {
        "id": "KxkIqQXTi31O"
      },
      "execution_count": null,
      "outputs": []
    },
    {
      "cell_type": "markdown",
      "source": [
        "---\n",
        "## 関数の引数"
      ],
      "metadata": {
        "id": "aSt6UsyWnlBq"
      }
    },
    {
      "cell_type": "markdown",
      "source": [
        "### 引数とは\n",
        "\n",
        "関数を呼び出すときに関数に渡す値を **引数** といいます．"
      ],
      "metadata": {
        "id": "1ZvIH1e5n_Bh"
      }
    },
    {
      "cell_type": "code",
      "source": [
        "def countdown(start):\n",
        "  print('関数が受け取った値：', start)\n",
        "  print('カウントダウンをします')\n",
        "  counter = start\n",
        "  while counter >= 0:\n",
        "    print(counter)\n",
        "    counter -= 1\n",
        "\n",
        "countdown(3)\n",
        "countdown(10)"
      ],
      "metadata": {
        "id": "lU654b2Ji99E"
      },
      "execution_count": null,
      "outputs": []
    },
    {
      "cell_type": "markdown",
      "source": [
        "### 複数の引数がある場合\n",
        "\n",
        "引数は複数あって構いません．括弧内にコンマつなぎで列挙します．呼び出し側でも，括弧内に対応した順で値を指定します．"
      ],
      "metadata": {
        "id": "8avy8FE0oGLF"
      }
    },
    {
      "cell_type": "code",
      "source": [
        "def countdown(start, end):\n",
        "  print('1つ目の引数で受け取った値：', start)\n",
        "  print('2つ目の引数で受け取った値：', end)\n",
        "  print('カウントダウンをします')\n",
        "  counter = start\n",
        "  while counter >= end:\n",
        "    print(counter)\n",
        "    counter -= 1\n",
        "\n",
        "countdown(7, 3)"
      ],
      "metadata": {
        "id": "KH5kQ_v-jQU1"
      },
      "execution_count": null,
      "outputs": []
    },
    {
      "cell_type": "markdown",
      "source": [
        "関数を呼び出す際，以下のように引数の変数名を明記して代入する形で書くこともできます（**キーワード引数**）．"
      ],
      "metadata": {
        "id": "zacX4KL0oXHD"
      }
    },
    {
      "cell_type": "code",
      "source": [
        "countdown(start=7, end=3)"
      ],
      "metadata": {
        "id": "7iYrEO42jfk1"
      },
      "execution_count": null,
      "outputs": []
    },
    {
      "cell_type": "markdown",
      "source": [
        "キーワード引数を使う場合，呼び出す際の引数の順番は関数の定義と違っても構いません．"
      ],
      "metadata": {
        "id": "qMarpJmZopJy"
      }
    },
    {
      "cell_type": "code",
      "source": [
        "countdown(end=3, start=7)"
      ],
      "metadata": {
        "id": "UxR-W67rjie6"
      },
      "execution_count": null,
      "outputs": []
    },
    {
      "cell_type": "markdown",
      "source": [
        "### デフォルト引数\n",
        "\n",
        "関数の定義部で，引数として「変数名=デフォルト値」と記述しておくと，呼び出し時にその引数の指定を省略できます．省略された場合は，そのデフォルト値が使用されます．デフォルト値以外の値を指定したいときは，省略せずに指定するわけです．"
      ],
      "metadata": {
        "id": "MH09UNXEo44x"
      }
    },
    {
      "cell_type": "code",
      "source": [
        "def countdown(start, end=0):\n",
        "  print('1つ目の引数で受け取った値：', start)\n",
        "  print('2つ目の引数で受け取った値：', end)\n",
        "  print('カウントダウンをします')\n",
        "  counter = start\n",
        "  while counter >= end:\n",
        "    print(counter)\n",
        "    counter -= 1\n",
        "\n",
        "countdown(10)\n",
        "countdown(10,0)\n",
        "countdown(10,3)"
      ],
      "metadata": {
        "id": "y33u_t-djo6o"
      },
      "execution_count": null,
      "outputs": []
    },
    {
      "cell_type": "markdown",
      "source": [
        "---\n",
        "## 関数の戻り値"
      ],
      "metadata": {
        "id": "pz-PUudhpSJB"
      }
    },
    {
      "cell_type": "markdown",
      "source": [
        "### 戻り値とは\n",
        "\n",
        "関数で処理した結果を呼び出し元に渡したい場合は，**戻り値**として戻します．\n"
      ],
      "metadata": {
        "id": "h-cNreFbqSn8"
      }
    },
    {
      "cell_type": "markdown",
      "source": [
        "以下は，引数として渡された値を半径とする円の面積を戻り値として返す関数 circle_area の例です．4行目で関数 circle_area が呼び出された結果，この circle_are(2.5) の部分が戻り値である 10.625 となるので，結果としてこの行は a = 10.625 となるわけです．"
      ],
      "metadata": {
        "id": "-zCVCuU2pVHf"
      }
    },
    {
      "cell_type": "code",
      "source": [
        "def circle_area(r):\n",
        "  return r * r * 3.14\n",
        "\n",
        "a = circle_area(2.5)\n",
        "print('半径2.5の円の面積は', a)"
      ],
      "metadata": {
        "id": "mfwe2napjvOg"
      },
      "execution_count": null,
      "outputs": []
    },
    {
      "cell_type": "markdown",
      "source": [
        "関数の中で宣言した変数に格納された値を return することもできます．"
      ],
      "metadata": {
        "id": "3U7dfHNBp9jv"
      }
    },
    {
      "cell_type": "code",
      "source": [
        "def circle_area(r):\n",
        "  area = r * r * 3.14\n",
        "  return area\n",
        "\n",
        "a = circle_area(2.5)\n",
        "print('半径2.5の円の面積は', a)"
      ],
      "metadata": {
        "id": "nhdonGFrj7MT"
      },
      "execution_count": null,
      "outputs": []
    },
    {
      "cell_type": "markdown",
      "source": [
        "### 真偽値を戻り値とする関数\n",
        "\n",
        "以下は，引数の値が正なら True ，それ以外（負またはゼロ）なら False を戻り値とする関数の例です．"
      ],
      "metadata": {
        "id": "r6s82N9MqaWU"
      }
    },
    {
      "cell_type": "code",
      "source": [
        "def is_positive(i):\n",
        "  if i > 0:\n",
        "    return True\n",
        "  else:\n",
        "    return False\n",
        "\n",
        "a = -10\n",
        "if is_positive(a) == True:\n",
        "  print('aの値は正です')\n",
        "else:\n",
        "  print('aの値は負またはゼロです')"
      ],
      "metadata": {
        "id": "LEwIlfLGkADj"
      },
      "execution_count": null,
      "outputs": []
    },
    {
      "cell_type": "markdown",
      "source": [
        "上のコードでは，引数 i の値に応じて i > 0 という式が True または False になります．したがって，この関数の中ではこの式が「TrueならTrueを返す，FalseならFalseを返す」という処理をしていることになります．それならその式自体を返してしまえばよいですね．それを踏まえると，上のコードは以下のようにスッキリさせることができます．"
      ],
      "metadata": {
        "id": "DQF3w5DJqqqP"
      }
    },
    {
      "cell_type": "code",
      "source": [
        "def is_positive(i):\n",
        "  return i > 0\n",
        "\n",
        "a = -10\n",
        "if is_positive(a) == True:\n",
        "  print('aの値は正です')\n",
        "else:\n",
        "  print('aの値は負またはゼロです')"
      ],
      "metadata": {
        "id": "FQuDWoIXkRMU"
      },
      "execution_count": null,
      "outputs": []
    },
    {
      "cell_type": "markdown",
      "source": [
        "### 複数の値を戻したい場合\n",
        "\n",
        "戻り値が複数ある場合は，タプルとして戻します．\n",
        "\n",
        "呼び出し側では，下の例のように書くと戻されたタプルの各要素を順に変数に代入できます．（第4回講義で学んだアンパック代入）"
      ],
      "metadata": {
        "id": "YV3EYMRirSK_"
      }
    },
    {
      "cell_type": "code",
      "source": [
        "def get_two_numbers():\n",
        "  return (2, 3)\n",
        "\n",
        "a, b = get_two_numbers()\n",
        "print(a, b)"
      ],
      "metadata": {
        "id": "ZEiWRK_rkXqt"
      },
      "execution_count": null,
      "outputs": []
    },
    {
      "cell_type": "markdown",
      "source": [
        "---\n",
        "## 自由演習\n",
        "\n",
        "以下に自由にコードを作成・実行して，知識を定着させ，理解を深めましょう．"
      ],
      "metadata": {
        "id": "qS8FE2BSg__a"
      }
    },
    {
      "cell_type": "code",
      "source": [
        "\n",
        "\n"
      ],
      "metadata": {
        "id": "BlBQCUFPhPft"
      },
      "execution_count": null,
      "outputs": []
    },
    {
      "cell_type": "markdown",
      "source": [
        "---\n",
        "第5回の演習は以上です．お疲れ様でした．"
      ],
      "metadata": {
        "id": "xTCD4KvqhTqC"
      }
    }
  ]
}