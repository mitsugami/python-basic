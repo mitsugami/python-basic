{
  "nbformat": 4,
  "nbformat_minor": 0,
  "metadata": {
    "colab": {
      "provenance": [],
      "toc_visible": true,
      "authorship_tag": "ABX9TyNFzM+QTMdM175vJBAYNI+i",
      "include_colab_link": true
    },
    "kernelspec": {
      "name": "python3",
      "display_name": "Python 3"
    },
    "language_info": {
      "name": "python"
    }
  },
  "cells": [
    {
      "cell_type": "markdown",
      "metadata": {
        "id": "view-in-github",
        "colab_type": "text"
      },
      "source": [
        "<a href=\"https://colab.research.google.com/github/mitsugami/python-basic/blob/main/exercise03.ipynb\" target=\"_parent\"><img src=\"https://colab.research.google.com/assets/colab-badge.svg\" alt=\"Open In Colab\"/></a>"
      ]
    },
    {
      "cell_type": "markdown",
      "metadata": {
        "id": "fBm6tcbx6FfB"
      },
      "source": [
        "# Python基礎 Live演習（第3回）\n",
        "\n",
        "これは， **Python基礎【第4回】～データ構造～** の演習課題です．"
      ]
    },
    {
      "cell_type": "markdown",
      "source": [
        "---\n",
        "## strオブジェクトのメソッド"
      ],
      "metadata": {
        "id": "YeiGIo-eqZ2c"
      }
    },
    {
      "cell_type": "markdown",
      "source": [
        "###(1)\n",
        "キーボードで入力された英文の中にスペースが何個あるかを表示するプログラムを作成してください．\n",
        "\n",
        "実行例：\n",
        "```\n",
        "英語の文を入力してください > I have a cat.\n",
        "3\n",
        "```"
      ],
      "metadata": {
        "id": "n91fWvCXe2xG"
      }
    },
    {
      "cell_type": "code",
      "source": [
        "# ここにコードを記述してください．\n",
        "\n",
        "\n"
      ],
      "metadata": {
        "id": "Xzre0y6ArCs7"
      },
      "execution_count": null,
      "outputs": []
    },
    {
      "cell_type": "markdown",
      "source": [
        "---\n",
        "## strクラスのformatメソッド"
      ],
      "metadata": {
        "id": "-4DJeSSBr5Ni"
      }
    },
    {
      "cell_type": "markdown",
      "source": [
        "###(2)\n",
        "2016/05/20 などのようにスラッシュつなぎの年月日がキーボードで入力されたときに，「2016年05月20日」と表示するプログラムを作成してください．strオブジェクトのsplitメソッドを使ってください．\n",
        "\n",
        "実行例：\n",
        "```\n",
        "年月日(****/**/**) : 2016/05/20\n",
        "2016年05月20日\n",
        "```"
      ],
      "metadata": {
        "id": "fPsaYX-rf9TI"
      }
    },
    {
      "cell_type": "code",
      "source": [
        "# ここにコードを記述してください．\n",
        "\n",
        "\n"
      ],
      "metadata": {
        "id": "IaRy8d7krahd"
      },
      "execution_count": null,
      "outputs": []
    },
    {
      "cell_type": "markdown",
      "source": [
        "---\n",
        "## in演算子\n",
        "\n",
        "文字列1が文字列2に含まれるかの判定に用いられる．含まれていれば True ，そうでなければ False となる．"
      ],
      "metadata": {
        "id": "wilzwkpgsTSu"
      }
    },
    {
      "cell_type": "markdown",
      "source": [
        "###(3)\n",
        "キーボードで入力された英文の中に 'ex' という文字列を含む場合は「あります」，含まない場合は「ありません」と表示するプログラムを作成してください．\n",
        "\n",
        "実行例：\n",
        "```\n",
        "英文を入力してください > This is an exersize.\n",
        "あります\n",
        "```\n",
        "```\n",
        "英文を入力してください > That is a test.\n",
        "ありません\n",
        "```"
      ],
      "metadata": {
        "id": "ygdLMMQXlo7s"
      }
    },
    {
      "cell_type": "code",
      "source": [
        "# ここにコードを記述してください．\n",
        "\n",
        "\n"
      ],
      "metadata": {
        "id": "R-STXaG0si3U"
      },
      "execution_count": null,
      "outputs": []
    },
    {
      "cell_type": "markdown",
      "source": [
        "---\n",
        "## スライス\n",
        "\n",
        "文字列（str型）中の1文字ではなくある範囲の文字列を取り出したいときには，スライスを使います．"
      ],
      "metadata": {
        "id": "6AUMD6-cswcP"
      }
    },
    {
      "cell_type": "markdown",
      "source": [
        "###(4)\n",
        "スライスを使って， 'abcdefghijklmn' という文字列から以下の文字列を取り出してみましょう．\n",
        "\n",
        "① 'ABC'\n",
        "\n",
        "② 'CDE'\n",
        "\n",
        "③ 'ACE'\n",
        "\n",
        "④ 'UVW'\n",
        "\n",
        "⑤ 'XYZ'\n",
        "\n",
        "⑥ 'VXZ'"
      ],
      "metadata": {
        "id": "lQiWfBDjtnuY"
      }
    },
    {
      "cell_type": "code",
      "source": [
        "a = 'ABCDEFGHIJKLMNOPQRSTUVWXYZ'\n",
        "\n",
        "# ここにコードを記述してください．\n",
        "\n",
        "\n",
        "\n",
        "\n",
        "\n"
      ],
      "metadata": {
        "id": "AL1CiEBjtVgb"
      },
      "execution_count": null,
      "outputs": []
    },
    {
      "cell_type": "markdown",
      "source": [
        "---\n",
        "## リスト"
      ],
      "metadata": {
        "id": "FhXfh8iLtyRJ"
      }
    },
    {
      "cell_type": "markdown",
      "metadata": {
        "id": "fZLFUNDpl5Ok"
      },
      "source": [
        "###(5)\n",
        "文字列のリスト lang の要素のうち，5文字以上のもののみを抽出した longlang というリストを作成してください．"
      ]
    },
    {
      "cell_type": "code",
      "metadata": {
        "id": "Tzo0q4ytnHoc"
      },
      "source": [
        "lang = ['C', 'C++', 'Java', 'JavaScript', 'Python', 'R', 'MATLAB', 'PHP', 'Go']\n",
        "\n",
        "# ここにコードを記述してください．\n",
        "\n",
        "\n",
        "\n",
        "# 以降は書き換えないでください．\n",
        "print(longlang)"
      ],
      "execution_count": null,
      "outputs": []
    },
    {
      "cell_type": "markdown",
      "source": [
        "---\n",
        "##リストの内包表記\n"
      ],
      "metadata": {
        "id": "tQyeyrVwvhs8"
      }
    },
    {
      "cell_type": "markdown",
      "metadata": {
        "id": "jpTMb6lMWvyo"
      },
      "source": [
        "###(6)\n",
        "3から60までの3の倍数を順に並べた以下のようなリストを表示するプログラムを作ってください．for文を使った書き方と，リストの内包表記を使った書き方の2パターン作成してください．\n",
        "\n",
        "表示すべき内容：\n",
        "```\n",
        "[3, 6, 9, 12, 15, 18, 21, 24, 27, 30, 33, 36, 39, 42, 45, 48, 51, 54, 57, 60]\n",
        "```\n"
      ]
    },
    {
      "cell_type": "markdown",
      "source": [
        "for文を使う方法："
      ],
      "metadata": {
        "id": "eFyTBU6my91-"
      }
    },
    {
      "cell_type": "code",
      "metadata": {
        "id": "v1jA1EgbXPm5"
      },
      "source": [
        "# ここにコードを記述してください．\n",
        "\n",
        "\n"
      ],
      "execution_count": null,
      "outputs": []
    },
    {
      "cell_type": "markdown",
      "source": [
        "内包表記を使う方法："
      ],
      "metadata": {
        "id": "di6aaSLuzCcd"
      }
    },
    {
      "cell_type": "code",
      "metadata": {
        "id": "Eb3zCwgAXO8y"
      },
      "source": [
        "# ここにコードを記述してください．\n",
        "\n",
        "\n"
      ],
      "execution_count": null,
      "outputs": []
    },
    {
      "cell_type": "markdown",
      "metadata": {
        "id": "0etFEqZQsTOm"
      },
      "source": [
        "###(7)\n",
        "以下のように，リストのn個目の要素が，'*' がn個繋がった文字列となるようなリストを表示するプログラムを作ってください．for文を使った書き方と，リストの内包表記を使った書き方の2パターン作成してください．\n",
        "\n",
        "表示すべき内容：\n",
        "```\n",
        "['*', '**', '***', '****', '*****', '******']\n",
        "\n",
        "```"
      ]
    },
    {
      "cell_type": "markdown",
      "source": [
        "for文を使う方法："
      ],
      "metadata": {
        "id": "ig45Dsz1zcDh"
      }
    },
    {
      "cell_type": "code",
      "metadata": {
        "id": "NRtYO4Ke7PTF"
      },
      "source": [
        "# ここにコードを記述してください．\n",
        "\n",
        "\n"
      ],
      "execution_count": null,
      "outputs": []
    },
    {
      "cell_type": "markdown",
      "source": [
        "内包表記を使う方法："
      ],
      "metadata": {
        "id": "TmLao8VBzdej"
      }
    },
    {
      "cell_type": "code",
      "metadata": {
        "id": "DhJtA829sTOo"
      },
      "source": [
        "# ここにコードを記述してください．\n",
        "\n",
        "\n"
      ],
      "execution_count": null,
      "outputs": []
    },
    {
      "cell_type": "markdown",
      "source": [
        "---\n",
        "## 集合（セット）"
      ],
      "metadata": {
        "id": "dZAF2MDx0Dnl"
      }
    },
    {
      "cell_type": "markdown",
      "metadata": {
        "id": "I3qgWInfugJ3"
      },
      "source": [
        "###(8)\n",
        "太郎・次郎・花子が好きなスポーツ上位3つを並べたリスト taro, jiro, hanako がある．この中に一度でも現れたスポーツ名を列挙したリスト sports を生成してください．なお，sports の中の要素の順番は問いません．\n",
        "\n",
        "表示すべき内容：\n",
        "```\n",
        "['tennis', 'basketball', 'pingpong', 'baseball', 'soccor']\n",
        "```"
      ]
    },
    {
      "cell_type": "code",
      "metadata": {
        "id": "uZadGSoAtnPH"
      },
      "source": [
        "taro = ['soccer', 'baseball', 'tennis']\n",
        "jiro = ['baseball', 'basketball', 'soccer']\n",
        "hanako = ['tennis', 'basketball', 'pingpong']\n",
        "\n",
        "# ここにコードを記述してください．\n",
        "\n",
        "\n",
        "\n",
        "# 以降は書き換えないでください．\n",
        "print(sports)"
      ],
      "execution_count": null,
      "outputs": []
    },
    {
      "cell_type": "markdown",
      "source": [
        "---\n",
        "##さらに\n",
        "\n",
        "以上の各演習問題について，Visual Studio Codeで .pyファイル として作成しプロンプトで実行してみましょう．"
      ],
      "metadata": {
        "id": "Pqmx2nycApxs"
      }
    }
  ]
}